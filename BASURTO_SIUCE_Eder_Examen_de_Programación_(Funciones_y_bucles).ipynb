{
  "nbformat": 4,
  "nbformat_minor": 0,
  "metadata": {
    "colab": {
      "provenance": [],
      "authorship_tag": "ABX9TyMsLhlsm2yVzBKD4oknUGBS",
      "include_colab_link": true
    },
    "kernelspec": {
      "name": "python3",
      "display_name": "Python 3"
    },
    "language_info": {
      "name": "python"
    }
  },
  "cells": [
    {
      "cell_type": "markdown",
      "metadata": {
        "id": "view-in-github",
        "colab_type": "text"
      },
      "source": [
        "<a href=\"https://colab.research.google.com/github/Ebasurtos/clase1-progrmacion101/blob/main/BASURTO_SIUCE_Eder_Examen_de_Programaci%C3%B3n_(Funciones_y_bucles).ipynb\" target=\"_parent\"><img src=\"https://colab.research.google.com/assets/colab-badge.svg\" alt=\"Open In Colab\"/></a>"
      ]
    },
    {
      "cell_type": "markdown",
      "source": [
        "**PREGUNTA No.1**"
      ],
      "metadata": {
        "id": "JWcsLXFQZ35P"
      }
    },
    {
      "cell_type": "code",
      "execution_count": 16,
      "metadata": {
        "id": "WXKN9ClSWrBe"
      },
      "outputs": [],
      "source": [
        "def cifrar_texto(texto_base, m):\n",
        "\n",
        "    resultado = \"\"\n",
        "\n",
        "    for x in texto_base:\n",
        "        if x.isalpha():\n",
        "            ref = ord('A') if x.isupper() else ord('a')\n",
        "            nueva_pos = (ord(x) - ref + (m + 0)) % 26 + ref\n",
        "            resultado += chr(nueva_pos)\n",
        "        else:\n",
        "            resultado += x\n",
        "\n",
        "    print(resultado)"
      ]
    },
    {
      "cell_type": "markdown",
      "source": [
        "**PREGUNTA No.2**"
      ],
      "metadata": {
        "id": "3T80BaJ0aBhT"
      }
    },
    {
      "cell_type": "code",
      "source": [
        "def cE(m):\n",
        "    s = [True] * m\n",
        "    s[0:2] = [False, False]\n",
        "    for i in range(2, int(m**0.5) + 1):\n",
        "        if s[i]:\n",
        "            for j in range(i*i, m, i):\n",
        "                s[j] = False\n",
        "    return [i for i, p in enumerate(s) if p]\n",
        "\n",
        "def pG(m):\n",
        "    if not isinstance(m, int) or m < 2:\n",
        "        raise ValueError(\"El valor de m debe ser un entero positivo mayor o igual a 2.\")\n",
        "    p, g = cE(m), []\n",
        "    for i in range(len(p) - 1):\n",
        "        if p[i+1] - p[i] == 2:\n",
        "            g.append((p[i], p[i+1]))\n",
        "    return g\n",
        "\n",
        "if _name_ == \"_main_\":\n",
        "    m = 15\n",
        "    print(f\"Primos gemelos menores que {m}: {pG(m)}\")"
      ],
      "metadata": {
        "colab": {
          "base_uri": "https://localhost:8080/",
          "height": 210
        },
        "id": "MLwicBRVaF6P",
        "outputId": "4f8996cf-8bfd-458e-d442-acf0063a202e"
      },
      "execution_count": 19,
      "outputs": [
        {
          "output_type": "error",
          "ename": "NameError",
          "evalue": "name '_name_' is not defined",
          "traceback": [
            "\u001b[0;31m---------------------------------------------------------------------------\u001b[0m",
            "\u001b[0;31mNameError\u001b[0m                                 Traceback (most recent call last)",
            "\u001b[0;32m<ipython-input-19-e8528dd37c98>\u001b[0m in \u001b[0;36m<cell line: 19>\u001b[0;34m()\u001b[0m\n\u001b[1;32m     17\u001b[0m     \u001b[0;32mreturn\u001b[0m \u001b[0mg\u001b[0m\u001b[0;34m\u001b[0m\u001b[0;34m\u001b[0m\u001b[0m\n\u001b[1;32m     18\u001b[0m \u001b[0;34m\u001b[0m\u001b[0m\n\u001b[0;32m---> 19\u001b[0;31m \u001b[0;32mif\u001b[0m \u001b[0m_name_\u001b[0m \u001b[0;34m==\u001b[0m \u001b[0;34m\"_main_\"\u001b[0m\u001b[0;34m:\u001b[0m\u001b[0;34m\u001b[0m\u001b[0;34m\u001b[0m\u001b[0m\n\u001b[0m\u001b[1;32m     20\u001b[0m     \u001b[0mm\u001b[0m \u001b[0;34m=\u001b[0m \u001b[0;36m15\u001b[0m\u001b[0;34m\u001b[0m\u001b[0;34m\u001b[0m\u001b[0m\n\u001b[1;32m     21\u001b[0m     \u001b[0mprint\u001b[0m\u001b[0;34m(\u001b[0m\u001b[0;34mf\"Primos gemelos menores que {m}: {pG(m)}\"\u001b[0m\u001b[0;34m)\u001b[0m\u001b[0;34m\u001b[0m\u001b[0;34m\u001b[0m\u001b[0m\n",
            "\u001b[0;31mNameError\u001b[0m: name '_name_' is not defined"
          ]
        }
      ]
    },
    {
      "cell_type": "markdown",
      "source": [
        "PREGUNTA No.3"
      ],
      "metadata": {
        "id": "s0jFKi8Iamzf"
      }
    },
    {
      "cell_type": "code",
      "source": [],
      "metadata": {
        "id": "R3RGef8uaoOO"
      },
      "execution_count": null,
      "outputs": []
    },
    {
      "cell_type": "code",
      "source": [],
      "metadata": {
        "id": "QfGiZIdvaMiF"
      },
      "execution_count": null,
      "outputs": []
    },
    {
      "cell_type": "markdown",
      "source": [
        "PREGUNTA No.4"
      ],
      "metadata": {
        "id": "lOqUVoAwapWA"
      }
    },
    {
      "cell_type": "code",
      "source": [
        " import re\n",
        "from collections import defaultdict\n",
        "\n",
        "def calcular_ocurrencias(cadena_texto):\n",
        "\n",
        "    # Convertir el texto a minúsculas\n",
        "    texto_bajo = cadena_texto.lower()\n",
        "\n",
        "    # Eliminar puntuación utilizando expresiones regulares\n",
        "    texto_procesado = re.sub(r'[^\\w\\s]', ' ', texto_bajo)\n",
        "\n",
        "    segmentos = texto_procesado.split()\n",
        "    texto_final = ' '.join(segmentos).split()\n",
        "\n",
        "    ocurrencias = defaultdict(int)\n",
        "\n",
        "    for palabra in texto_final:\n",
        "        ocurrencias[palabra] += 1\n",
        "\n",
        "    resultado_final = dict(ocurrencias)\n",
        "\n",
        "    print(resultado_final)\n"
      ],
      "metadata": {
        "id": "hJWa5rtvbOHU"
      },
      "execution_count": 18,
      "outputs": []
    },
    {
      "cell_type": "markdown",
      "source": [
        "PREGUNTA No.5"
      ],
      "metadata": {
        "id": "IpvLyIJ5czLY"
      }
    },
    {
      "cell_type": "code",
      "source": [
        "import random\n",
        "\n",
        "def adivina_el_numero():\n",
        "    numero_secreto = random.randint(1, 100)\n",
        "    intentos = 0\n",
        "    limite_intentos = 10\n",
        "\n",
        "    print(\"¡Bienvenido al juego Adivina el número!\")\n",
        "    print(\"Estoy pensando en un número entre 1 y 100.\")\n",
        "\n",
        "    while intentos < limite_intentos:\n",
        "        try:\n",
        "            intento = int(input(f\"Intento {intentos + 1}/{limite_intentos}: Ingresa tu número: \"))\n",
        "        except ValueError:\n",
        "            print(\"Ingresa un número válido.\")\n",
        "            continue\n",
        "\n",
        "        intentos += 1\n",
        "\n",
        "        if intento < numero_secreto:\n",
        "            print(\"Más alto\")\n",
        "        elif intento > numero_secreto:\n",
        "            print(\"Más bajo\")\n",
        "        else:\n",
        "            print(f\"¡Felicidades! Adivinaste el número {numero_secreto} en {intentos} intentos.\")\n",
        "            return\n",
        "\n",
        "    print(f\"No adivinaste el número. El número secreto era {numero_secreto}.\")\n",
        "\n",
        "if __name__ == \"__main__\":\n",
        "    adivina_el_numero()"
      ],
      "metadata": {
        "colab": {
          "base_uri": "https://localhost:8080/"
        },
        "id": "i9hxQENFcwp5",
        "outputId": "ea172ccd-aa0e-44fe-9232-acbb1fdb2d6f"
      },
      "execution_count": null,
      "outputs": [
        {
          "output_type": "stream",
          "name": "stdout",
          "text": [
            "¡Bienvenido al juego Adivina el número!\n",
            "Estoy pensando en un número entre 1 y 100.\n"
          ]
        }
      ]
    },
    {
      "cell_type": "code",
      "source": [],
      "metadata": {
        "id": "Y8DLcCqLYzZV"
      },
      "execution_count": null,
      "outputs": []
    }
  ]
}