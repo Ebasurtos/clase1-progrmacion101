{
  "nbformat": 4,
  "nbformat_minor": 0,
  "metadata": {
    "colab": {
      "provenance": [],
      "authorship_tag": "ABX9TyN/qL888JHpfNCkCXIUIO8R",
      "include_colab_link": true
    },
    "kernelspec": {
      "name": "python3",
      "display_name": "Python 3"
    },
    "language_info": {
      "name": "python"
    }
  },
  "cells": [
    {
      "cell_type": "markdown",
      "metadata": {
        "id": "view-in-github",
        "colab_type": "text"
      },
      "source": [
        "<a href=\"https://colab.research.google.com/github/Ebasurtos/clase1-progrmacion101/blob/main/BASURTO_SIUCE_Eder_Examen_de_Programaci%C3%B3n_(Funciones_y_bucles).ipynb\" target=\"_parent\"><img src=\"https://colab.research.google.com/assets/colab-badge.svg\" alt=\"Open In Colab\"/></a>"
      ]
    },
    {
      "cell_type": "markdown",
      "source": [
        "**PREGUNTA No.1**"
      ],
      "metadata": {
        "id": "JWcsLXFQZ35P"
      }
    },
    {
      "cell_type": "code",
      "execution_count": 26,
      "metadata": {
        "colab": {
          "base_uri": "https://localhost:8080/"
        },
        "id": "WXKN9ClSWrBe",
        "outputId": "ecfbe875-c676-45bb-b27b-5ec1b3aaf733"
      },
      "outputs": [
        {
          "output_type": "stream",
          "name": "stdout",
          "text": [
            "Krod, Pxqgr!\n"
          ]
        }
      ],
      "source": [
        "def cifrar_texto(texto, n):\n",
        "    resultado = \"\"\n",
        "\n",
        "    for char in texto:\n",
        "        if char.isalpha():\n",
        "            offset = 65 if char.isupper() else 97\n",
        "            nuevo_char = chr((ord(char) - offset + n) % 26 + offset)\n",
        "            resultado += nuevo_char\n",
        "        else:\n",
        "            resultado += char\n",
        "\n",
        "    return resultado\n",
        "\n",
        "texto = \"Hola, Mundo!\"\n",
        "n = 3\n",
        "print(cifrar_texto(texto, n))"
      ]
    },
    {
      "cell_type": "markdown",
      "source": [
        "**PREGUNTA No.2**"
      ],
      "metadata": {
        "id": "3T80BaJ0aBhT"
      }
    },
    {
      "cell_type": "code",
      "source": [
        "def es_primo(numero):\n",
        "    if numero < 2:\n",
        "        return False\n",
        "    for i in range(2, int(numero ** 0.5) + 1):\n",
        "        if numero % i == 0:\n",
        "            return False\n",
        "    return True\n",
        "\n",
        "def primos_gemelos(limite):\n",
        "    gemelos = []\n",
        "    for numero in range(2, limite - 1):\n",
        "        if es_primo(numero) and es_primo(numero + 2):\n",
        "            gemelos.append((numero, numero + 2))\n",
        "    return gemelos\n",
        "\n",
        "limite = 200\n",
        "print(primos_gemelos(limite))"
      ],
      "metadata": {
        "colab": {
          "base_uri": "https://localhost:8080/"
        },
        "id": "MLwicBRVaF6P",
        "outputId": "c8b27dbc-1dc0-4f19-beac-bc5dae3993d3"
      },
      "execution_count": 24,
      "outputs": [
        {
          "output_type": "stream",
          "name": "stdout",
          "text": [
            "[(3, 5), (5, 7), (11, 13), (17, 19), (29, 31), (41, 43), (59, 61), (71, 73), (101, 103), (107, 109), (137, 139), (149, 151), (179, 181), (191, 193), (197, 199)]\n"
          ]
        }
      ]
    },
    {
      "cell_type": "markdown",
      "source": [
        "**PREGUNTA No.3**"
      ],
      "metadata": {
        "id": "bdnr21Zwfal3"
      }
    },
    {
      "cell_type": "code",
      "source": [],
      "metadata": {
        "id": "8NyqqV0ZfdyJ"
      },
      "execution_count": null,
      "outputs": []
    },
    {
      "cell_type": "markdown",
      "source": [
        "**PREGUNTA No.4**"
      ],
      "metadata": {
        "id": "lOqUVoAwapWA"
      }
    },
    {
      "cell_type": "code",
      "source": [
        "def analizar_frecuencia(texto):\n",
        "    frecuencia = {}\n",
        "    palabras = texto.split()\n",
        "    for palabra in palabras:\n",
        "        if palabra in frecuencia:\n",
        "            frecuencia[palabra] += 1\n",
        "        else:\n",
        "            frecuencia[palabra] = 1\n",
        "\n",
        "    return frecuencia\n",
        "\n",
        "\n",
        "texto = \"Hola mundo. Hola a todos en el mundo.\"\n",
        "print(analizar_frecuencia(texto))\n"
      ],
      "metadata": {
        "colab": {
          "base_uri": "https://localhost:8080/"
        },
        "id": "hJWa5rtvbOHU",
        "outputId": "37ceace4-596a-448e-ca04-67cb699c8a88"
      },
      "execution_count": 23,
      "outputs": [
        {
          "output_type": "stream",
          "name": "stdout",
          "text": [
            "{'Hola': 2, 'mundo.': 2, 'a': 1, 'todos': 1, 'en': 1, 'el': 1}\n"
          ]
        }
      ]
    },
    {
      "cell_type": "markdown",
      "source": [
        "**PREGUNTA No.5**"
      ],
      "metadata": {
        "id": "IpvLyIJ5czLY"
      }
    },
    {
      "cell_type": "code",
      "source": [
        "import random\n",
        "\n",
        "def juego_adivinanza():\n",
        "    numero_secreto = random.randint(1, 100)\n",
        "    intentos_restantes = 10\n",
        "\n",
        "    print(\"¡Bienvenido al juego de adivinanza de números!\")\n",
        "    print(\"Tienes 10 intentos para adivinar el número entre 1 y 100.\")\n",
        "\n",
        "    while intentos_restantes > 0:\n",
        "        try:\n",
        "            adivinanza = int(input(\"Ingresa tu número: \"))\n",
        "        except ValueError:\n",
        "            print(\"Por favor, ingresa un número válido.\")\n",
        "            continue\n",
        "\n",
        "        if adivinanza == numero_secreto:\n",
        "            print(\"¡Felicidades! ¡Adivinaste el número!\")\n",
        "            return\n",
        "        elif adivinanza < numero_secreto:\n",
        "            print(\"Más alto.\")\n",
        "        else:\n",
        "            print(\"Más bajo.\")\n",
        "\n",
        "        intentos_restantes -= 1\n",
        "        print(f\"Te quedan {intentos_restantes} intentos.\")\n",
        "\n",
        "    print(f\"Lo siento, te has quedado sin intentos. El número correcto era {numero_secreto}.\")\n",
        "\n",
        "# Ejemplo de uso\n",
        "juego_adivinanza()"
      ],
      "metadata": {
        "colab": {
          "base_uri": "https://localhost:8080/"
        },
        "id": "i9hxQENFcwp5",
        "outputId": "9da1cf66-d70d-4a49-9475-7a4e7248d7c4"
      },
      "execution_count": null,
      "outputs": [
        {
          "output_type": "stream",
          "name": "stdout",
          "text": [
            "¡Bienvenido al juego de adivinanza de números!\n",
            "Tienes 10 intentos para adivinar el número entre 1 y 100.\n"
          ]
        }
      ]
    },
    {
      "cell_type": "markdown",
      "source": [
        "**PREGUNTA No.6**"
      ],
      "metadata": {
        "id": "ztJ1H6IseCBS"
      }
    },
    {
      "cell_type": "code",
      "source": [
        "import random\n",
        "import string\n",
        "\n",
        "def generar_contraseña(l):\n",
        "    \"\"\"\n",
        "    Genera una contraseña segura de longitud l.\n",
        "\n",
        "    Args:\n",
        "        l: La longitud deseada de la contraseña.\n",
        "\n",
        "    Returns:\n",
        "        Una cadena que representa la contraseña generada.\n",
        "    \"\"\"\n",
        "\n",
        "    caracteres = string.ascii_letters + string.digits + string.punctuation\n",
        "    contraseña = ''.join(random.choice(caracteres) for i in range(l))\n",
        "    return contraseña"
      ],
      "metadata": {
        "id": "A-wmUYsNee1n"
      },
      "execution_count": 27,
      "outputs": []
    }
  ]
}