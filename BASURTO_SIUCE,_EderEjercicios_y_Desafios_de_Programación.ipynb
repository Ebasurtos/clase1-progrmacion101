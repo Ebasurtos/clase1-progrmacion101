{
  "nbformat": 4,
  "nbformat_minor": 0,
  "metadata": {
    "colab": {
      "provenance": [],
      "toc_visible": true,
      "authorship_tag": "ABX9TyPRFaBkRAW36pT2aHm3u6ri",
      "include_colab_link": true
    },
    "kernelspec": {
      "name": "python3",
      "display_name": "Python 3"
    },
    "language_info": {
      "name": "python"
    }
  },
  "cells": [
    {
      "cell_type": "markdown",
      "metadata": {
        "id": "view-in-github",
        "colab_type": "text"
      },
      "source": [
        "<a href=\"https://colab.research.google.com/github/Ebasurtos/clase1-progrmacion101/blob/main/BASURTO_SIUCE%2C_EderEjercicios_y_Desafios_de_Programaci%C3%B3n.ipynb\" target=\"_parent\"><img src=\"https://colab.research.google.com/assets/colab-badge.svg\" alt=\"Open In Colab\"/></a>"
      ]
    },
    {
      "cell_type": "markdown",
      "source": [
        "**Ejercicio 1.1:** Operaciones con entrada de usuario\n",
        "Pide al usuario dos números, realiza las operaciones básicas (suma, resta, multiplicación y división) e imprime los resultados. Calcula la raíz cuadrada de un número utilizando la función ** (exponente)."
      ],
      "metadata": {
        "id": "2B7UabIgBpF2"
      }
    },
    {
      "cell_type": "code",
      "source": [
        "numero1=float(input(\"Ingrese el primer numero: \"))\n",
        "numero2=float(input(\"Ingrese el segundo numero: \"))\n",
        "print(f'La suma de los numeros es = {numero1+numero2}')\n",
        "print(f'La resta de los numeros es = {numero1-numero2}')\n",
        "print(f'La multiplicación de los numeros es = {numero1*numero2}')\n",
        "print(f'La división de los numeros es = {numero1/numero2}')\n",
        "print(f'La potencia de los numeros es = {numero1**numero2}')\n",
        "print(f'La raiz cuadrada de numero 1 es = {numero1**(1/2)}')"
      ],
      "metadata": {
        "colab": {
          "base_uri": "https://localhost:8080/"
        },
        "id": "AuBF3UiQBwJp",
        "outputId": "7f5fb675-4518-49cd-91bc-ef23c3788d8c"
      },
      "execution_count": 1,
      "outputs": [
        {
          "output_type": "stream",
          "name": "stdout",
          "text": [
            "Ingrese el primer numero: 2.4\n",
            "Ingrese el segundo numero: 24.8\n",
            "La suma de los numeros es = 27.2\n",
            "La resta de los numeros es = -22.400000000000002\n",
            "La multiplicación de los numeros es = 59.519999999999996\n",
            "La división de los numeros es = 0.0967741935483871\n",
            "La potencia de los numeros es = 2686821373.6320367\n",
            "La raiz cuadrada de numero 1 es = 1.5491933384829668\n"
          ]
        }
      ]
    },
    {
      "cell_type": "markdown",
      "source": [
        "**Ejercicio 2.1:** Creando saludos\n",
        "Pide al usuario su nombre y apellido, luego genera un saludo en el formato: \"¡Hola, [Nombre Apellido]!\".\n",
        "\n",
        "Usa repetición para imprimir el saludo 5 veces."
      ],
      "metadata": {
        "id": "5YyNptCcFWvj"
      }
    },
    {
      "cell_type": "code",
      "source": [
        "Nombre=input('Digame su nombre: ')\n",
        "Apellido=input('Digame su apellido: ')\n",
        "print(f'¡Hola, {Nombre} {Apellido}!')\n",
        "print(f'¡Hola, {Nombre} {Apellido}!'*5)\n"
      ],
      "metadata": {
        "colab": {
          "base_uri": "https://localhost:8080/"
        },
        "id": "XbJysV7DFWO8",
        "outputId": "9750b131-2d03-4254-8642-608d30545c53"
      },
      "execution_count": 6,
      "outputs": [
        {
          "output_type": "stream",
          "name": "stdout",
          "text": [
            "Digame su nombre: Eder\n",
            "Digame su apellido: Basurto\n",
            "¡Hola, Eder Basurto!\n",
            "¡Hola, Eder Basurto!¡Hola, Eder Basurto!¡Hola, Eder Basurto!¡Hola, Eder Basurto!¡Hola, Eder Basurto!\n"
          ]
        }
      ]
    },
    {
      "cell_type": "markdown",
      "source": [
        "\n",
        "**Ejercicio 2.2:** Eliminar espacios en cadenas\n",
        "Pide al usuario que ingrese una frase con espacios extra al inicio y al final.\n",
        "\n",
        "Usa strip() para eliminar los espacios en blanco.\n",
        "Usa lstrip() para eliminar los espacios al inicio.\n",
        "Usa rstrip() para eliminar los espacios al final.\n",
        "Imprime los resultados después de aplicar cada método"
      ],
      "metadata": {
        "id": "QDkOlaDsJFd5"
      }
    },
    {
      "cell_type": "code",
      "source": [
        "frase=input('Ingrese una frase: ')\n",
        "print(frase.strip())\n",
        "print(frase.lstrip())\n",
        "print(frase.rstrip())"
      ],
      "metadata": {
        "colab": {
          "base_uri": "https://localhost:8080/"
        },
        "id": "a4QB_7kQGFu2",
        "outputId": "79415d7e-a38d-4a09-f028-d9ea5623b796"
      },
      "execution_count": 7,
      "outputs": [
        {
          "output_type": "stream",
          "name": "stdout",
          "text": [
            "Ingrese una frase:    ¡Aprendiendo a programar con Python !     \n",
            "¡Aprendiendo a programar con Python !\n",
            "¡Aprendiendo a programar con Python !     \n",
            "   ¡Aprendiendo a programar con Python !\n"
          ]
        }
      ]
    },
    {
      "cell_type": "markdown",
      "source": [
        "\n",
        "**Ejercicio 2.3:** Transformando cadenas\n",
        "Pide al usuario que ingrese una frase, luego:\n",
        "Convierte toda la frase a mayúsculas.\n",
        "Reemplaza una palabra de la frase por otra y muestra el resultado.\n",
        "Imprime la longitud de la frase"
      ],
      "metadata": {
        "id": "XIMpOPeEK_-C"
      }
    },
    {
      "cell_type": "code",
      "source": [
        "frase=input('Ingrese una frase: ')\n",
        "frase1=f'Frase ingresada: {frase}'\n",
        "print(frase1.upper())\n",
        "print(frase1.replace('Frase ingresada: ','Frase leida: '))\n",
        "print(f'La longitud de la frase es de {len(frase1)} caracteres')"
      ],
      "metadata": {
        "colab": {
          "base_uri": "https://localhost:8080/"
        },
        "id": "l6qi2TVoLCFt",
        "outputId": "c1e3f88b-7822-4ede-e723-911622902bfb"
      },
      "execution_count": 9,
      "outputs": [
        {
          "output_type": "stream",
          "name": "stdout",
          "text": [
            "Ingrese una frase: Hoy es jueves de Programación 01\n",
            "FRASE INGRESADA: HOY ES JUEVES DE PROGRAMACIÓN 01\n",
            "Frase leida: Hoy es jueves de Programación 01\n",
            "La longitud de la frase es de 49 caracteres\n"
          ]
        }
      ]
    },
    {
      "cell_type": "markdown",
      "source": [
        "\n",
        "**Ejercicio 3.1:** Descuento basado en la edad\n",
        "\n",
        "Pide al usuario ingresar su edad y usa condicionales para aplicar los siguientes descuentos:\n",
        "\n",
        "Si es menor de 18 años, obtiene un 50% de descuento.\n",
        "Si tiene entre 18 y 65 años, obtiene un 10% de descuento.\n",
        "Si es mayor de 65 años, obtiene un 30% de descuento"
      ],
      "metadata": {
        "id": "AbbZZoYHOisl"
      }
    },
    {
      "cell_type": "code",
      "source": [
        "edad=int(input('¿Ingrese su edad? '))\n",
        "if edad < 18:\n",
        "  print('¡Felicitaciones! Usted obtiene un 50% de descuento')\n",
        "elif edad >= 18 and edad <= 65:\n",
        "  print('¡Felicitaciones! Usted obtiene un 10% de descuento')\n",
        "elif edad > 65:\n",
        "  print('¡Felicitaciones! Usted obtiene un 30% de descuento')"
      ],
      "metadata": {
        "colab": {
          "base_uri": "https://localhost:8080/"
        },
        "id": "YrSraeP0eEqE",
        "outputId": "2c6fad6f-b343-4d4d-9b9b-5fb00d96c660"
      },
      "execution_count": 5,
      "outputs": [
        {
          "output_type": "stream",
          "name": "stdout",
          "text": [
            "¿Ingrese su edad? 15\n",
            "¡Felicitaciones! Usted obtiene un 50% de descuento\n"
          ]
        }
      ]
    },
    {
      "cell_type": "markdown",
      "source": [
        "**Ejercicio 3.2**: Estado de la temperatura\n",
        "\n",
        "Crea un programa que pida al usuario la temperatura en su ciudad y determine:\n",
        "\n",
        "* Si es mayor de 30 grados, imprime \"Hace mucho calor\".\n",
        "* Si está entre 20 y 30 grados, imprime \"El clima es agradable\".\n",
        "* Si es menor de 20 grados, imprime \"Hace frío\"\n"
      ],
      "metadata": {
        "id": "A6PlXrGqgHTO"
      }
    },
    {
      "cell_type": "code",
      "source": [
        "temperatura=int(input(\"¿Cuál es la temperatura en su ciudad? \"))\n",
        "\n",
        "if temperatura>30:\n",
        "    print(\"Hace mucho calor\")\n",
        "elif temperatura>=20 and temperatura<=30:\n",
        "    print(\"El clima es agradable\")\n",
        "else:\n",
        "    print(\"Hace frío\")"
      ],
      "metadata": {
        "colab": {
          "base_uri": "https://localhost:8080/"
        },
        "id": "rNR_k9oQgwQE",
        "outputId": "1374d832-5ffd-40de-a9c4-b9a9aba4fe0a"
      },
      "execution_count": 9,
      "outputs": [
        {
          "output_type": "stream",
          "name": "stdout",
          "text": [
            "¿Cuál es la temperatura en su ciudad? 18\n",
            "Hace frío.\n"
          ]
        }
      ]
    },
    {
      "cell_type": "markdown",
      "source": [
        "**Ejercicio 3.3:** Sistema de votación\n",
        "\n",
        "Crea un programa que determine si una persona puede votar. Pide al usuario su nacionalidad y edad.\n",
        "\n",
        "* Si la persona es de nacionalidad \"Peruana\" y mayor de 18 años, permite que vote.\n",
        "* Si es menor de edad o no es de esa nacionalidad, no puede votar\n",
        "\n"
      ],
      "metadata": {
        "id": "tmFtuZhoiIj2"
      }
    },
    {
      "cell_type": "code",
      "source": [
        "Nacionalidad=input('¿Cuál es su nacionalidad? ')\n",
        "Nacionalidad=Nacionalidad.capitalize()\n",
        "Edad=int(input('¿Cuál es su edad? '))\n",
        "if Nacionalidad=='Peruana' and Edad>=18:\n",
        "  print('¡Puede votar!')\n",
        "else:\n",
        "  print('¡No puede votar!')"
      ],
      "metadata": {
        "colab": {
          "base_uri": "https://localhost:8080/"
        },
        "id": "NXd5d1vricrP",
        "outputId": "7b15851b-848a-4af6-eaa4-fe2d9e3826c3"
      },
      "execution_count": 17,
      "outputs": [
        {
          "output_type": "stream",
          "name": "stdout",
          "text": [
            "¿Cuál es su nacionalidad? Peruana\n",
            "¿Cuál es su edad? 14\n",
            "¡No puede votar!\n"
          ]
        }
      ]
    },
    {
      "cell_type": "markdown",
      "source": [
        "**Ejercicio 3.4:** Notas de estudiantes\n",
        "\n",
        "Escribe un programa que determine la calificación de un estudiante en función de su nota:\n",
        "\n",
        "* Si la nota es mayor o igual a 90: \"Sobresaliente\".\n",
        "* Si está entre 70 y 89: \"Aprobado\".\n",
        "* Si es menor de 70: \"Desaprobado\"."
      ],
      "metadata": {
        "id": "rpfgp1t7kSUo"
      }
    },
    {
      "cell_type": "code",
      "source": [
        "nota=int(input('¿Cuál es tu nota? '))\n",
        "if nota>=90:\n",
        "  print('Sobresaliente')\n",
        "elif nota >= 70 and nota <= 89:\n",
        "  print('Aprobado')\n",
        "else:\n",
        "  print('Desaprobado')"
      ],
      "metadata": {
        "colab": {
          "base_uri": "https://localhost:8080/"
        },
        "id": "-r5WCdg5km6I",
        "outputId": "f578aa99-5508-4b76-e29d-6b631f729f2b"
      },
      "execution_count": 22,
      "outputs": [
        {
          "output_type": "stream",
          "name": "stdout",
          "text": [
            "¿Cuál es tu nota? 85\n",
            "Aprobado\n"
          ]
        }
      ]
    },
    {
      "cell_type": "markdown",
      "source": [
        "**Desafío 1:** Calculadora de propinas inteligente\n",
        "\n",
        "Crea un programa que simule una calculadora de propinas en un restaurante. El programa debe:\n",
        "* Pedir al usuario que ingrese el total de la cuenta.\n",
        "* Pedir el porcentaje de propina que le gustaría dejar (por ejemplo, 10%, 15%, 20%)\n",
        "\n",
        "Usar condicionales para sugerir automáticamente un valor si no se ingresa un porcentaje, basándose en la experiencia:\n",
        "\n",
        "*  Si el servicio fue excelente, sugerir 20%.\n",
        "*  Si el servicio fue bueno, sugerir 15%.\n",
        "*  Si el servicio fue mediocre, sugerir 10%.\n",
        "*  Si el servicio fue malo, no sugerir propina.\n",
        "\n",
        "Calcular e imprimir la cantidad de propina y el total a pagar (cuenta + propina)\n",
        "\n"
      ],
      "metadata": {
        "id": "AsLkHA4wlR5g"
      }
    },
    {
      "cell_type": "code",
      "source": [
        "Cuenta=int(input('¿Monto total de la cuenta? '))\n",
        "Porcentaje=str(input('¿Cuál es el porcentaje de propina que desea dejar? '))\n",
        "Experiencia=input('¿Cómo fue el servicio: excelente, bueno, mediocre o malo? ')\n",
        "if Porcentaje=='':\n",
        "  if Experiencia=='excelente':\n",
        "    Porcentaje=20\n",
        "    print(f'El monto de la propina es de {Cuenta*Porcentaje/100} soles')\n",
        "  elif Experiencia=='bueno':\n",
        "    Porcentaje=15\n",
        "    print(f'El monto de la propina es de {Cuenta*Porcentaje/100} soles')\n",
        "  elif Experiencia=='mediocre':\n",
        "    Porcentaje=10\n",
        "    print(f'El monto de la propina es de {Cuenta*Porcentaje/100} soles')\n",
        "  elif Experiencia=='malo':\n",
        "    print('No se sugiere propina')\n",
        "else:\n",
        "  print(f'El monto de la propina es de {Cuenta*Porcentaje/100} soles')"
      ],
      "metadata": {
        "colab": {
          "base_uri": "https://localhost:8080/"
        },
        "id": "iYYtFCHjmOny",
        "outputId": "4886f1c0-41d0-458b-8d4e-dc18777c631a"
      },
      "execution_count": 42,
      "outputs": [
        {
          "output_type": "stream",
          "name": "stdout",
          "text": [
            "¿Monto total de la cuenta? 1000\n",
            "¿Cuál es el porcentaje de propina que desea dejar? \n",
            "¿Cómo fue el servicio: excelente, bueno, mediocre o malo? malo\n",
            "No se sugiere propina\n"
          ]
        }
      ]
    }
  ]
}