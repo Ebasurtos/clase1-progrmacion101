{
  "nbformat": 4,
  "nbformat_minor": 0,
  "metadata": {
    "colab": {
      "provenance": [],
      "authorship_tag": "ABX9TyN/4Nt1xkXi+ScZxpnV8L32",
      "include_colab_link": true
    },
    "kernelspec": {
      "name": "python3",
      "display_name": "Python 3"
    },
    "language_info": {
      "name": "python"
    }
  },
  "cells": [
    {
      "cell_type": "markdown",
      "metadata": {
        "id": "view-in-github",
        "colab_type": "text"
      },
      "source": [
        "<a href=\"https://colab.research.google.com/github/Ebasurtos/clase1-progrmacion101/blob/main/BASURTO_SIUCE%2C_Eder_TAREA_2.ipynb\" target=\"_parent\"><img src=\"https://colab.research.google.com/assets/colab-badge.svg\" alt=\"Open In Colab\"/></a>"
      ]
    },
    {
      "cell_type": "markdown",
      "source": [
        "**Ejercicio 1.1:** Operaciones numéricas con listas\n",
        "\n",
        "*  Crea una lista de números entre 1 y 100 usando la función range() (verás cómo usarla en el próximo ejemplo).\n",
        "* Calcula la media de los valores de la lista usando las funciones sum() y len().\n",
        "* Usa sorted() para crear una lista ordenada inversamente de los primeros 50 números.\n",
        "* Crea una lista que contenga solo los números mayores a 50, multiplicados por 2\n"
      ],
      "metadata": {
        "id": "5sOa7DD4K95R"
      }
    },
    {
      "cell_type": "code",
      "source": [
        "#1 LISTA\n",
        "lista = list(range(1,101))\n",
        "print(lista)\n",
        "#2 MEDIA\n",
        "media = sum(lista)/len(lista)\n",
        "print(f'MEDIA de la lista es: {media}')\n",
        "#3 LISTA inversa\n",
        "lista_inversa = sorted(lista, reverse=True)\n",
        "print(lista_inversa)\n",
        "#4 Numeros mayores a 50 multiplicados por 2\n",
        "lista_mayores_50 = list(range(51,,1))\n",
        "[x*2 for x in lista_mayores_50 if x > 50:]\n",
        "print(lista_mayores_50)\n"
      ],
      "metadata": {
        "colab": {
          "base_uri": "https://localhost:8080/",
          "height": 106
        },
        "id": "I65byi2fLkm3",
        "outputId": "b82e9be0-5068-499b-dc1a-94521e2f851c"
      },
      "execution_count": 13,
      "outputs": [
        {
          "output_type": "error",
          "ename": "SyntaxError",
          "evalue": "invalid syntax (<ipython-input-13-a8c2179c411a>, line 11)",
          "traceback": [
            "\u001b[0;36m  File \u001b[0;32m\"<ipython-input-13-a8c2179c411a>\"\u001b[0;36m, line \u001b[0;32m11\u001b[0m\n\u001b[0;31m    lista_mayores_50 = list(range(51,,1))\u001b[0m\n\u001b[0m                                     ^\u001b[0m\n\u001b[0;31mSyntaxError\u001b[0m\u001b[0;31m:\u001b[0m invalid syntax\n"
          ]
        }
      ]
    },
    {
      "cell_type": "code",
      "source": [],
      "metadata": {
        "id": "qI2-e9Y7MRxC"
      },
      "execution_count": null,
      "outputs": []
    }
  ]
}