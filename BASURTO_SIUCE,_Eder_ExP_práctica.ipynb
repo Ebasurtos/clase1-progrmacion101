{
  "nbformat": 4,
  "nbformat_minor": 0,
  "metadata": {
    "colab": {
      "provenance": [],
      "authorship_tag": "ABX9TyNmdp2EcSzavD25Li4Uv492",
      "include_colab_link": true
    },
    "kernelspec": {
      "name": "python3",
      "display_name": "Python 3"
    },
    "language_info": {
      "name": "python"
    }
  },
  "cells": [
    {
      "cell_type": "markdown",
      "metadata": {
        "id": "view-in-github",
        "colab_type": "text"
      },
      "source": [
        "<a href=\"https://colab.research.google.com/github/Ebasurtos/clase1-progrmacion101/blob/main/BASURTO_SIUCE%2C_Eder_ExP_pr%C3%A1ctica.ipynb\" target=\"_parent\"><img src=\"https://colab.research.google.com/assets/colab-badge.svg\" alt=\"Open In Colab\"/></a>"
      ]
    },
    {
      "cell_type": "code",
      "source": [
        "class Solution:\n",
        "    def maxDepth(self, s: str) -> int: # template\n",
        "        max_depth = 0 # Guarda la profundidad máxima de paréntesis que se haya encontrado hasta el momento\n",
        "        current_depth = 0 # Lleva el control de la profundidad actual de los paréntesis mientras se recorre la cadena\n",
        "        for char in s: # Recorre cada caracter de la cadena\n",
        "            if char == '(': # Paréntesis de apertura encontrado\n",
        "                current_depth += 1 # Un nivel abajo en la profundidad\n",
        "                max_depth = max(max_depth, current_depth) # Mantenemos el valor más alto de profundidad.\n",
        "            elif char == ')': # Incrementamos en 1, ya que estamos cerrando un paréntesis y retrocediendo en profundidad\n",
        "                current_depth -= 1\n",
        "        return max_depth # Al final, después de recorrer todos los caracteres de la cadena, el valor de max_depth conteniene la profundidad máxima alcanzada, que es lo que se devuelve como resultado"
      ],
      "metadata": {
        "id": "SGd9ToMiIuqW"
      },
      "execution_count": 7,
      "outputs": []
    }
  ]
}