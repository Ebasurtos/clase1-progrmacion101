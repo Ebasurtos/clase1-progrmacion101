{
  "nbformat": 4,
  "nbformat_minor": 0,
  "metadata": {
    "colab": {
      "provenance": [],
      "authorship_tag": "ABX9TyM0Q7ooD97VpkoqyFVwWwgE",
      "include_colab_link": true
    },
    "kernelspec": {
      "name": "python3",
      "display_name": "Python 3"
    },
    "language_info": {
      "name": "python"
    }
  },
  "cells": [
    {
      "cell_type": "markdown",
      "metadata": {
        "id": "view-in-github",
        "colab_type": "text"
      },
      "source": [
        "<a href=\"https://colab.research.google.com/github/Ebasurtos/clase1-progrmacion101/blob/main/EDER_Clase_Estructuras_de_datos.ipynb\" target=\"_parent\"><img src=\"https://colab.research.google.com/assets/colab-badge.svg\" alt=\"Open In Colab\"/></a>"
      ]
    },
    {
      "cell_type": "code",
      "execution_count": 13,
      "metadata": {
        "colab": {
          "base_uri": "https://localhost:8080/",
          "height": 35
        },
        "id": "sCzAoNmtwxoK",
        "outputId": "3ed602ee-b5c8-4ea7-a8a3-61e6c12f260e"
      },
      "outputs": [
        {
          "output_type": "execute_result",
          "data": {
            "text/plain": [
              "'Class KNN'"
            ],
            "application/vnd.google.colaboratory.intrinsic+json": {
              "type": "string"
            }
          },
          "metadata": {},
          "execution_count": 13
        }
      ],
      "source": [
        "funel=['logistic regression', 'xgboost', 'SVM', ['Reg SVM', 'Class KNN'], 'Decisoon Tree', 'Random forest']\n",
        "funel[3][1]"
      ]
    },
    {
      "cell_type": "code",
      "source": [
        "funel[-3][-1]"
      ],
      "metadata": {
        "colab": {
          "base_uri": "https://localhost:8080/",
          "height": 35
        },
        "id": "727bBCuu1Bx0",
        "outputId": "10be3ffb-9395-418e-a655-ad2fba7e1180"
      },
      "execution_count": 14,
      "outputs": [
        {
          "output_type": "execute_result",
          "data": {
            "text/plain": [
              "'Class KNN'"
            ],
            "application/vnd.google.colaboratory.intrinsic+json": {
              "type": "string"
            }
          },
          "metadata": {},
          "execution_count": 14
        }
      ]
    },
    {
      "cell_type": "code",
      "source": [
        "funel[1]='Gradient Boostinf'\n",
        "print(funel)\n",
        "funel[3][0]=None\n",
        "print(funel)"
      ],
      "metadata": {
        "colab": {
          "base_uri": "https://localhost:8080/"
        },
        "id": "So76LiFI1OJx",
        "outputId": "07fe262e-cb65-471d-a928-4c1e0e239aec"
      },
      "execution_count": 18,
      "outputs": [
        {
          "output_type": "stream",
          "name": "stdout",
          "text": [
            "['logistic regression', 'Gradient Boostinf', 'SVM', ['', 'Class KNN'], 'Decisoon Tree', 'Random forest']\n",
            "['logistic regression', 'Gradient Boostinf', 'SVM', [None, 'Class KNN'], 'Decisoon Tree', 'Random forest']\n"
          ]
        }
      ]
    },
    {
      "cell_type": "code",
      "source": [
        "algoritmos=['XGBoost','SVM', 'KNN']\n",
        "algoritmos.append('Decision tree')\n",
        "algoritmos.append('Random forest')\n",
        "print(algoritmos)"
      ],
      "metadata": {
        "colab": {
          "base_uri": "https://localhost:8080/"
        },
        "id": "51r4nwHR2Hky",
        "outputId": "88d7411e-86ee-4448-ca8c-b47993c1720e"
      },
      "execution_count": 20,
      "outputs": [
        {
          "output_type": "stream",
          "name": "stdout",
          "text": [
            "['XGBoost', 'SVM', 'KNN', 'Decision tree', 'Random forest']\n"
          ]
        }
      ]
    },
    {
      "cell_type": "code",
      "source": [
        "var_demo=['edad','zona','genero','estado civil']\n",
        "var_ahorros=['ahorros_prom6','gastos sum3','abonos_prom6']\n",
        "var_total=var_ahorros+var_demo\n",
        "print(var_total)"
      ],
      "metadata": {
        "colab": {
          "base_uri": "https://localhost:8080/"
        },
        "id": "nhbNUANo4cm9",
        "outputId": "d8cb32cf-3286-4e9a-ade9-0e3a849afb4f"
      },
      "execution_count": 21,
      "outputs": [
        {
          "output_type": "stream",
          "name": "stdout",
          "text": [
            "['ahorros_prom6', 'gastos sum3', 'abonos_prom6', 'edad', 'zona', 'genero', 'estado civil']\n"
          ]
        }
      ]
    },
    {
      "cell_type": "code",
      "source": [
        "frutas=['manzana', 'banana', 'naranja', 'uva', 'pera']\n",
        "frutas.append('kiwi')\n",
        "print(frutas)\n",
        "frutas.insert(-1,'Sandia')\n",
        "print(frutas)\n",
        "frutas.remove('Sandia')\n",
        "print(frutas)\n",
        "frutas.pop(2)\n",
        "print(frutas)\n"
      ],
      "metadata": {
        "colab": {
          "base_uri": "https://localhost:8080/"
        },
        "id": "3FzPh6pI5jIk",
        "outputId": "19f1ec2b-a2a4-409e-c5e9-5ba8b85e3599"
      },
      "execution_count": 26,
      "outputs": [
        {
          "output_type": "stream",
          "name": "stdout",
          "text": [
            "['manzana', 'banana', 'naranja', 'uva', 'pera', 'kiwi']\n",
            "['manzana', 'banana', 'naranja', 'uva', 'pera', 'Sandia', 'kiwi']\n"
          ]
        }
      ]
    },
    {
      "cell_type": "code",
      "source": [],
      "metadata": {
        "id": "wRrtPySU7mWt"
      },
      "execution_count": null,
      "outputs": []
    },
    {
      "cell_type": "code",
      "source": [
        "frutas=['mango','manzana','banana','Sandia','naranja','uva','pera', 'Sandia', 'kiwi']\n",
        "frutas.sort()\n",
        "print(frutas)\n",
        "frutas.sort(reverse=True)\n",
        "print(frutas)\n",
        "frutas.count('Sandia')\n",
        "frutas.index('naranja')\n",
        "#\n",
        "len(frutas)\n",
        "\n"
      ],
      "metadata": {
        "colab": {
          "base_uri": "https://localhost:8080/"
        },
        "id": "oRxQqz7N8FIK",
        "outputId": "f8da2cd8-8aea-435b-ce4e-aa3f0a1f2c5b"
      },
      "execution_count": 51,
      "outputs": [
        {
          "output_type": "stream",
          "name": "stdout",
          "text": [
            "['Sandia', 'Sandia', 'banana', 'kiwi', 'mango', 'manzana', 'naranja', 'pera', 'uva']\n",
            "['uva', 'pera', 'naranja', 'manzana', 'mango', 'kiwi', 'banana', 'Sandia', 'Sandia']\n"
          ]
        },
        {
          "output_type": "execute_result",
          "data": {
            "text/plain": [
              "9"
            ]
          },
          "metadata": {},
          "execution_count": 51
        }
      ]
    },
    {
      "cell_type": "code",
      "source": [
        "votos=[]"
      ],
      "metadata": {
        "id": "I53NWlitBmix"
      },
      "execution_count": 47,
      "outputs": []
    },
    {
      "cell_type": "code",
      "source": [
        "var=input('Dime tu voto: ')\n",
        "votos.append(var)\n",
        "print(f'Votos actuales: {votos}')"
      ],
      "metadata": {
        "colab": {
          "base_uri": "https://localhost:8080/"
        },
        "id": "V0rcGEt6Bo8m",
        "outputId": "ca081876-0f0d-49ff-ea2f-4ea52a2f046e"
      },
      "execution_count": 49,
      "outputs": [
        {
          "output_type": "stream",
          "name": "stdout",
          "text": [
            "Dime tu voto: LAPIZ\n",
            "Votos actuales: ['APRA', 'LAPIZ']\n"
          ]
        }
      ]
    },
    {
      "cell_type": "code",
      "source": [
        "list(range(1,20+1))"
      ],
      "metadata": {
        "colab": {
          "base_uri": "https://localhost:8080/"
        },
        "id": "rwcO1iMKGB8x",
        "outputId": "ff928d77-d451-4242-838b-062d3f095800"
      },
      "execution_count": 58,
      "outputs": [
        {
          "output_type": "execute_result",
          "data": {
            "text/plain": [
              "[1, 2, 3, 4, 5, 6, 7, 8, 9, 10, 11, 12, 13, 14, 15, 16, 17, 18, 19, 20]"
            ]
          },
          "metadata": {},
          "execution_count": 58
        }
      ]
    },
    {
      "cell_type": "code",
      "source": [
        "list(range(1,20+1,2))"
      ],
      "metadata": {
        "colab": {
          "base_uri": "https://localhost:8080/"
        },
        "id": "sh_ix0C-GfH5",
        "outputId": "ee804dfa-fd95-48d8-ec96-0afc0ad43725"
      },
      "execution_count": 59,
      "outputs": [
        {
          "output_type": "execute_result",
          "data": {
            "text/plain": [
              "[1, 3, 5, 7, 9, 11, 13, 15, 17, 19]"
            ]
          },
          "metadata": {},
          "execution_count": 59
        }
      ]
    },
    {
      "cell_type": "code",
      "source": [
        "print(f'El resultado multiplos de 23 del 1 al 1700 es: {len(list(range(23,1701,23)))}')"
      ],
      "metadata": {
        "colab": {
          "base_uri": "https://localhost:8080/"
        },
        "id": "dOQW5EaGHVT1",
        "outputId": "4841d0de-4535-435d-fea5-679924b0ea5a"
      },
      "execution_count": 69,
      "outputs": [
        {
          "output_type": "stream",
          "name": "stdout",
          "text": [
            "El resultado multiplos de 23 del 1 al 1700 es: 73\n"
          ]
        }
      ]
    },
    {
      "cell_type": "code",
      "source": [
        "Numeros=[]"
      ],
      "metadata": {
        "id": "Cv2XjLHFOuoS"
      },
      "execution_count": 78,
      "outputs": []
    },
    {
      "cell_type": "code",
      "source": [
        "numero=int(input('Ingresa un numero mayor a 50: '))\n",
        "num=numero*2\n",
        "Numeros.append(num)\n",
        "print(f'NUmeros multiplicados por 2 mayores a 50: {Numeros}')"
      ],
      "metadata": {
        "colab": {
          "base_uri": "https://localhost:8080/"
        },
        "id": "swApYg-BKTRT",
        "outputId": "c1313938-f1fd-41da-8577-20c5fa12cf75"
      },
      "execution_count": 81,
      "outputs": [
        {
          "output_type": "stream",
          "name": "stdout",
          "text": [
            "Ingresa un numero mayor a 50: 76\n",
            "NUmeros multiplicados por 2 mayores a 50: [102, 112, 152]\n"
          ]
        }
      ]
    }
  ]
}