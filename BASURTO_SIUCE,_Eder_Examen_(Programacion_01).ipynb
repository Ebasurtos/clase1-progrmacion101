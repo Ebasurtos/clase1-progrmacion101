{
  "nbformat": 4,
  "nbformat_minor": 0,
  "metadata": {
    "colab": {
      "provenance": [],
      "authorship_tag": "ABX9TyMKAuyQE/cn1K+fVGBOMtfi",
      "include_colab_link": true
    },
    "kernelspec": {
      "name": "python3",
      "display_name": "Python 3"
    },
    "language_info": {
      "name": "python"
    }
  },
  "cells": [
    {
      "cell_type": "markdown",
      "metadata": {
        "id": "view-in-github",
        "colab_type": "text"
      },
      "source": [
        "<a href=\"https://colab.research.google.com/github/Ebasurtos/clase1-progrmacion101/blob/main/BASURTO_SIUCE%2C_Eder_Examen_(Programacion_01).ipynb\" target=\"_parent\"><img src=\"https://colab.research.google.com/assets/colab-badge.svg\" alt=\"Open In Colab\"/></a>"
      ]
    },
    {
      "cell_type": "markdown",
      "source": [
        "Pregunta **1**:"
      ],
      "metadata": {
        "id": "3U6OGUDtAlDO"
      }
    },
    {
      "cell_type": "code",
      "execution_count": 50,
      "metadata": {
        "colab": {
          "base_uri": "https://localhost:8080/"
        },
        "id": "FwwbsK-M-XQZ",
        "outputId": "adf5d9e0-641c-4bad-d3e1-2d1baacbc738"
      },
      "outputs": [
        {
          "output_type": "stream",
          "name": "stdout",
          "text": [
            "[['#', '#', '#', '#', '#'], ['#', ' ', ' ', ' ', '#'], ['#', ' ', ' ', ' ', '#'], ['#', ' ', ' ', ' ', '#'], ['#', '#', '#', '#', '#']]\n"
          ]
        }
      ],
      "source": [
        "# creacion de laberinto\n",
        "laberinto = [['#','#','#','#','#'],\n",
        "             ['#',' ',' ',' ','#'],\n",
        "             ['#',' ',' ',' ','#'],\n",
        "             ['#',' ',' ',' ','#'],\n",
        "             ['#','#','#','#','#'],]\n",
        "\n",
        "print(laberinto)"
      ]
    },
    {
      "cell_type": "code",
      "source": [
        "muro = ((0,0), (0,1), (0,2), (0,3),(0,4), (1,0), (2,0), (3,0), (4,0), (4,1), (4,2), (4,3), (4,4), (3,4), (2,4),(1,4))\n"
      ],
      "metadata": {
        "id": "gxNn2-cUGR1W"
      },
      "execution_count": null,
      "outputs": []
    },
    {
      "cell_type": "code",
      "source": [
        "# ingreso de coordenadas\n",
        "laberinto = []\n",
        "dimension = 5\n",
        "for i in range(dimension):\n",
        "        fila = []\n",
        "        for j in range(dimension):\n",
        "           if tuple([i, j]) in muro:\n",
        "            fila.append('#')\n",
        "            else :\n",
        "              fila.append(' ')\n",
        "        laberinto.append(fila)"
      ],
      "metadata": {
        "colab": {
          "base_uri": "https://localhost:8080/",
          "height": 106
        },
        "id": "eeiMbfCmIvr9",
        "outputId": "b3af9657-66d9-42e0-e2c5-9ae0db3969d4"
      },
      "execution_count": 58,
      "outputs": [
        {
          "output_type": "error",
          "ename": "SyntaxError",
          "evalue": "invalid syntax (<ipython-input-58-e8119ea227c6>, line 8)",
          "traceback": [
            "\u001b[0;36m  File \u001b[0;32m\"<ipython-input-58-e8119ea227c6>\"\u001b[0;36m, line \u001b[0;32m8\u001b[0m\n\u001b[0;31m    else\u001b[0m\n\u001b[0m    ^\u001b[0m\n\u001b[0;31mSyntaxError\u001b[0m\u001b[0;31m:\u001b[0m invalid syntax\n"
          ]
        }
      ]
    },
    {
      "cell_type": "code",
      "source": [
        " # Fila y columnas iniciales\n",
        "    fila = columna = 0\n",
        "    # Lista de movimientos\n",
        "    movimientos = ['Abajo']\n",
        "    while (fila < n-1 and columna < n-1):\n",
        "        if movimientos[-1] != 'Arriba' and fila + 1 < n and laberinto[fila + 1][columna] != '#':\n",
        "            fila += 1\n",
        "            movimientos.append('Abajo')\n",
        "        elif movimientos[-1] != 'Abajo' and fila - 1 > 0 and laberinto[fila - 1][columna] != '#':\n",
        "            fila -= 1\n",
        "            movimientos.append('Arriba')\n",
        "        elif movimientos[-1] != 'Izquierda' and columna + 1 < n and laberinto[fila][columna + 1] != '#':\n",
        "            columna += 1\n",
        "            movimientos.append('Derecha')\n",
        "        elif movimientos[-1] != 'Derecha' and columna - 1 > 0 and laberinto[fila][columna - 1] != '#':\n",
        "            columna -= 1\n",
        "            movimientos.append('Izquierda')\n",
        "        else:\n",
        "            movimientos.append('No hay salida')\n",
        "    return movimientos"
      ],
      "metadata": {
        "id": "jkzI_-YJLmvH"
      },
      "execution_count": null,
      "outputs": []
    }
  ]
}