{
  "nbformat": 4,
  "nbformat_minor": 0,
  "metadata": {
    "colab": {
      "provenance": [],
      "authorship_tag": "ABX9TyMUtbm1XCa3xlUoCwQsi/n0",
      "include_colab_link": true
    },
    "kernelspec": {
      "name": "python3",
      "display_name": "Python 3"
    },
    "language_info": {
      "name": "python"
    }
  },
  "cells": [
    {
      "cell_type": "markdown",
      "metadata": {
        "id": "view-in-github",
        "colab_type": "text"
      },
      "source": [
        "<a href=\"https://colab.research.google.com/github/Ebasurtos/clase1-progrmacion101/blob/main/EC3_Pregunta_1_Grupo_7.ipynb\" target=\"_parent\"><img src=\"https://colab.research.google.com/assets/colab-badge.svg\" alt=\"Open In Colab\"/></a>"
      ]
    },
    {
      "cell_type": "code",
      "source": [
        "def find_min(nums):\n",
        "    \"\"\"\n",
        "    Encuentra el elemento mínimo en una matriz rotada ordenada.\n",
        "\n",
        "    Arguementos:\n",
        "        nums: Una lista de números enteros que representan la matriz rotada ordenada\n",
        "\n",
        "    Resultado:\n",
        "        El elemento mínimo en la matriz.\n",
        "    \"\"\"\n",
        "    left, right = 0, len(nums) - 1\n",
        "\n",
        "    while left < right:\n",
        "        mid = (left + right) // 2\n",
        "\n",
        "        if nums[mid] > nums[right]:\n",
        "            left = mid + 1\n",
        "        else:\n",
        "            right = mid\n",
        "\n",
        "    return nums[left]"
      ],
      "metadata": {
        "id": "htuatRalh65O"
      },
      "execution_count": 16,
      "outputs": []
    }
  ]
}