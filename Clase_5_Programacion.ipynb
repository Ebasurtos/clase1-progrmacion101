{
  "nbformat": 4,
  "nbformat_minor": 0,
  "metadata": {
    "colab": {
      "provenance": [],
      "authorship_tag": "ABX9TyM8T6GFP5OxN1c6ITJeNfnV",
      "include_colab_link": true
    },
    "kernelspec": {
      "name": "python3",
      "display_name": "Python 3"
    },
    "language_info": {
      "name": "python"
    }
  },
  "cells": [
    {
      "cell_type": "markdown",
      "metadata": {
        "id": "view-in-github",
        "colab_type": "text"
      },
      "source": [
        "<a href=\"https://colab.research.google.com/github/Ebasurtos/clase1-progrmacion101/blob/main/Clase_5_Programacion.ipynb\" target=\"_parent\"><img src=\"https://colab.research.google.com/assets/colab-badge.svg\" alt=\"Open In Colab\"/></a>"
      ]
    },
    {
      "cell_type": "markdown",
      "source": [
        "**Ejercicio 1:**\n",
        "Escriba una funcion que tenga como input dos números (N y n). El resultado de la función debe ser la cantidad de multiplos de n menores que N."
      ],
      "metadata": {
        "id": "Jn8A4httjI-c"
      }
    },
    {
      "cell_type": "markdown",
      "source": [
        "**Ejercicio 2**:\n",
        "Sobre la función anterior, agregue un control para validar N>n, de no ser asi imprima un mensaje de que los numeros son no validos."
      ],
      "metadata": {
        "id": "DG_klDdKrwcI"
      }
    },
    {
      "cell_type": "code",
      "source": [
        "def multiplos(N,n):\n",
        "  \"\"\"Multiplos:\n",
        "  ---------\n",
        "  EL resultado de la funcion es la cantidad de multiplos\"\"\"\n",
        "  if N < n:\n",
        "    print(\"n no puede ser mayor que N\")\n",
        "  else:\n",
        "    multiplos = [x for x in range(0,N) if x%n == 0]\n",
        "    return len(multiplos), multiplos"
      ],
      "metadata": {
        "id": "RbUBm2VZjo_r"
      },
      "execution_count": 48,
      "outputs": []
    },
    {
      "cell_type": "code",
      "source": [
        "n,m=multiplos(100, 10)\n",
        "print(f'la cantidad de multiplos es: {n}, y estos son {m}')"
      ],
      "metadata": {
        "colab": {
          "base_uri": "https://localhost:8080/"
        },
        "id": "yEmDbYO2mO0f",
        "outputId": "a50682e0-6f33-4511-ebea-c0fda3a66af6"
      },
      "execution_count": 50,
      "outputs": [
        {
          "output_type": "stream",
          "name": "stdout",
          "text": [
            "la cantidad de multiplos es: 10, y estos son [0, 10, 20, 30, 40, 50, 60, 70, 80, 90]\n"
          ]
        }
      ]
    },
    {
      "cell_type": "markdown",
      "source": [],
      "metadata": {
        "id": "_ZuCtbkEjKuE"
      }
    },
    {
      "cell_type": "markdown",
      "source": [
        "**Ejercicio 3**:\n",
        "Ahora que la función devuelva 2 outputs, el primero que se a la cantidad de multiplos y el segundo, la lista de multiplos. Finalmente imprime un mensaje luego de usar la funcion que indique la cantidad de multiplos y los multiplos."
      ],
      "metadata": {
        "id": "nbf9qUVBlJNK"
      }
    },
    {
      "cell_type": "code",
      "source": [
        "print(f'la cantidad de multiplos es: {len(multiplos)}')\n",
        "print(f'los multiplos son: {list(multiplos)}')"
      ],
      "metadata": {
        "colab": {
          "base_uri": "https://localhost:8080/",
          "height": 158
        },
        "id": "DE74pAdwlnLp",
        "outputId": "956fddb5-9405-4a49-fd43-714b0a5805de"
      },
      "execution_count": 40,
      "outputs": [
        {
          "output_type": "error",
          "ename": "TypeError",
          "evalue": "object of type 'function' has no len()",
          "traceback": [
            "\u001b[0;31m---------------------------------------------------------------------------\u001b[0m",
            "\u001b[0;31mTypeError\u001b[0m                                 Traceback (most recent call last)",
            "\u001b[0;32m<ipython-input-40-e6808cfdb68b>\u001b[0m in \u001b[0;36m<cell line: 1>\u001b[0;34m()\u001b[0m\n\u001b[0;32m----> 1\u001b[0;31m \u001b[0mprint\u001b[0m\u001b[0;34m(\u001b[0m\u001b[0;34mf'la cantidad de multiplos es: {len(multiplos)}'\u001b[0m\u001b[0;34m)\u001b[0m\u001b[0;34m\u001b[0m\u001b[0;34m\u001b[0m\u001b[0m\n\u001b[0m\u001b[1;32m      2\u001b[0m \u001b[0mprint\u001b[0m\u001b[0;34m(\u001b[0m\u001b[0;34mf'los multiplos son: {list(multiplos)}'\u001b[0m\u001b[0;34m)\u001b[0m\u001b[0;34m\u001b[0m\u001b[0;34m\u001b[0m\u001b[0m\n",
            "\u001b[0;31mTypeError\u001b[0m: object of type 'function' has no len()"
          ]
        }
      ]
    },
    {
      "cell_type": "markdown",
      "source": [],
      "metadata": {
        "id": "lod6pTDetNZa"
      }
    }
  ]
}