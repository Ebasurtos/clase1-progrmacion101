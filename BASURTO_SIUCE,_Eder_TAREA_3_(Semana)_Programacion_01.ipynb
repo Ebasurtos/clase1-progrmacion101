{
  "nbformat": 4,
  "nbformat_minor": 0,
  "metadata": {
    "colab": {
      "provenance": [],
      "name": "BASURTO SIUCE, Eder_TAREA 3 (Semana)_Programacion_01",
      "authorship_tag": "ABX9TyM3e6MQ3ZAEyJPMYnE0+Dig",
      "include_colab_link": true
    },
    "kernelspec": {
      "name": "python3",
      "display_name": "Python 3"
    },
    "language_info": {
      "name": "python"
    }
  },
  "cells": [
    {
      "cell_type": "markdown",
      "metadata": {
        "id": "view-in-github",
        "colab_type": "text"
      },
      "source": [
        "<a href=\"https://colab.research.google.com/github/Ebasurtos/clase1-progrmacion101/blob/main/BASURTO_SIUCE%2C_Eder_TAREA_3_(Semana)_Programacion_01.ipynb\" target=\"_parent\"><img src=\"https://colab.research.google.com/assets/colab-badge.svg\" alt=\"Open In Colab\"/></a>"
      ]
    },
    {
      "cell_type": "markdown",
      "source": [
        "**4. Desafío**\n",
        "\n",
        "Eres el encargado de un almacén de productos electrónicos. Tienes un registro de ventas semanales para teléfonos, laptops y tabletas. Necesitas analizar las ventas para mejorar la gestión.\n",
        "\n",
        "\n",
        "\n",
        "* Crea tres listas: una para teléfonos, otra para laptops y otra para tabletas con las ventas de cada día durante una semana.\n",
        "* Usa slicing para obtener las ventas de los últimos 3 días de cada producto.\n",
        "* Usa listas por comprensión para calcular el total de ventas de cada producto y el promedio de ventas diarias.\n",
        "* Clasifica los productos en \"ventas altas\" o \"ventas bajas\" según si el promedio de ventas es mayor o menor a 5.\n",
        "\n",
        "Instrucciones: Usa sum() y len() para calcular el total de ventas y el promedio. Clasifica las ventas usando listas por comprensión\n"
      ],
      "metadata": {
        "id": "aMMKuDyoglOC"
      }
    },
    {
      "cell_type": "code",
      "source": [
        "#1\n",
        "Lista_telefonos={'Lunes':8,'Martes':3,'Miercoles':4,'Jueves':5,'Viernes':7,'Sabado':12,'Domingo':10}\n",
        "Lista_laptops={'Lunes':6,'Martes':2,'Miercoles':3,'Jueves':4,'Viernes':5,'Sabado':7,'Domingo':7}\n",
        "Lista_tabletas={'Lunes':4,'Martes':3,'Miercoles':5,'Jueves':5,'Viernes':7,'Sabado':9,'Domingo':6}\n",
        "ventas_telefonos= (list((Lista_telefonos.values())))\n",
        "print(f'Ventas de telefonos: {ventas_telefonos}')\n",
        "ventas_laptops= (list((Lista_laptops.values())))\n",
        "print(f'Ventas de laptops: {ventas_laptops}')\n",
        "ventas_tabletas= (list((Lista_tabletas.values())))\n",
        "print(f'Ventas de tablets: {ventas_tabletas}')\n"
      ],
      "metadata": {
        "colab": {
          "base_uri": "https://localhost:8080/"
        },
        "id": "IRGjEsIjhIrA",
        "outputId": "50a12701-008e-4316-8851-43830c1a2f5b"
      },
      "execution_count": 11,
      "outputs": [
        {
          "output_type": "stream",
          "name": "stdout",
          "text": [
            "Ventas de telefonos: [8, 3, 4, 5, 7, 12, 10]\n",
            "Ventas de laptops: [6, 2, 3, 4, 5, 7, 7]\n",
            "Ventas de tablets: [4, 3, 5, 5, 7, 9, 6]\n"
          ]
        }
      ]
    },
    {
      "cell_type": "code",
      "source": [
        "#2\n",
        "print(list(ventas_telefonos[-3:]))\n",
        "print(list(ventas_laptops[-3:]))\n",
        "print(list(ventas_tabletas[-3:]))"
      ],
      "metadata": {
        "colab": {
          "base_uri": "https://localhost:8080/"
        },
        "id": "eKVoja3kkjiY",
        "outputId": "d1131d98-dbc8-4b4f-92f2-21feea4fe460"
      },
      "execution_count": 12,
      "outputs": [
        {
          "output_type": "stream",
          "name": "stdout",
          "text": [
            "[7, 12, 10]\n",
            "[5, 7, 7]\n",
            "[7, 9, 6]\n"
          ]
        }
      ]
    },
    {
      "cell_type": "code",
      "source": [
        "#3\n",
        "telefonos=[x for x in ventas_telefonos]\n",
        "print(f'El total de ventas totales de telefonos es: {sum(telefonos)}')\n",
        "print(f'El promedio de ventas diarias de telefonos es: {sum(telefonos)/len(telefonos)}')\n",
        "laptops=[x for x in ventas_laptops]\n",
        "print(f'El total de ventas totales de laptops es: {sum(laptops)}')\n",
        "print(f'El promedio de ventas diarias de laptops es: {sum(laptops)/len(laptops)}')\n",
        "tabletas=[x for x in ventas_tabletas]\n",
        "print(f'El total de ventas totales de tablets es: {sum(tabletas)}')\n",
        "print(f'El promedio de ventas diarias de tablets es: {sum(tabletas)/len(tabletas)}')\n"
      ],
      "metadata": {
        "colab": {
          "base_uri": "https://localhost:8080/"
        },
        "id": "CyiCl_aak9Sp",
        "outputId": "84776a8b-f9dd-4d81-8f77-6a721d3c2b82"
      },
      "execution_count": 13,
      "outputs": [
        {
          "output_type": "stream",
          "name": "stdout",
          "text": [
            "El total de ventas totales de telefonos es: 49\n",
            "El promedio de ventas diarias de telefonos es: 7.0\n",
            "El total de ventas totales de laptops es: 34\n",
            "El promedio de ventas diarias de laptops es: 4.857142857142857\n",
            "El total de ventas totales de tablets es: 39\n",
            "El promedio de ventas diarias de tablets es: 5.571428571428571\n"
          ]
        }
      ]
    },
    {
      "cell_type": "code",
      "source": [
        "# 4  Clasificar los productos en \"ventas altas\" o \"ventas bajas\" según si el promedio de ventas es mayor o menor a 5\n",
        "promedio_telefonos=sum(telefonos)/len(telefonos)\n",
        "promedio_laptops=sum(laptops)/len(laptops)\n",
        "promedio_tabletas=sum(tabletas)/len(tabletas)\n",
        "\n",
        "clasificacion_telefonos = 'ventas altas' if promedio_telefonos > 5 else 'ventas bajas'\n",
        "clasificacion_laptops = 'ventas altas' if promedio_laptops > 5 else 'ventas bajas'\n",
        "clasificacion_tabletas = 'ventas altas' if promedio_tabletas > 5 else 'ventas bajas'\n",
        "\n",
        "print(f'La clasificación de ventas de teléfonos es: {clasificacion_telefonos}')\n",
        "print(f'La clasificación de ventas de laptops es: {clasificacion_laptops}')\n",
        "print(f'La clasificación de ventas de tabletas es: {clasificacion_tabletas}')\n"
      ],
      "metadata": {
        "id": "u8vWVA4dzG6U",
        "outputId": "7cd41952-2dd0-4ab9-c43a-3538abdad405",
        "colab": {
          "base_uri": "https://localhost:8080/"
        }
      },
      "execution_count": 32,
      "outputs": [
        {
          "output_type": "stream",
          "name": "stdout",
          "text": [
            "La clasificación de ventas de teléfonos es: ventas altas\n",
            "La clasificación de ventas de laptops es: ventas bajas\n",
            "La clasificación de ventas de tabletas es: ventas altas\n"
          ]
        }
      ]
    }
  ]
}