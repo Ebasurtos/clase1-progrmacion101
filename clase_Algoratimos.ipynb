{
  "nbformat": 4,
  "nbformat_minor": 0,
  "metadata": {
    "colab": {
      "provenance": [],
      "authorship_tag": "ABX9TyOTzF79/HNvLIdcFN+GSS6F",
      "include_colab_link": true
    },
    "kernelspec": {
      "name": "python3",
      "display_name": "Python 3"
    },
    "language_info": {
      "name": "python"
    }
  },
  "cells": [
    {
      "cell_type": "markdown",
      "metadata": {
        "id": "view-in-github",
        "colab_type": "text"
      },
      "source": [
        "<a href=\"https://colab.research.google.com/github/Ebasurtos/clase1-progrmacion101/blob/main/clase_Algoratimos.ipynb\" target=\"_parent\"><img src=\"https://colab.research.google.com/assets/colab-badge.svg\" alt=\"Open In Colab\"/></a>"
      ]
    },
    {
      "cell_type": "code",
      "execution_count": 1,
      "metadata": {
        "colab": {
          "base_uri": "https://localhost:8080/"
        },
        "id": "3XoXcJ5ta6Pk",
        "outputId": "a5a1b903-93b4-469d-b965-cd2fa70a6d40"
      },
      "outputs": [
        {
          "output_type": "stream",
          "name": "stdout",
          "text": [
            "[1, 2, 3, 4, 5]\n"
          ]
        }
      ],
      "source": [
        "def insertionSort(arr):\n",
        "    n = len(arr)  # Get the length of the array\n",
        "\n",
        "    if n <= 1:\n",
        "        return  # If the array has 0 or 1 element, it is already sorted, so return\n",
        "\n",
        "    for i in range(1, n):  # Iterate over the array starting from the second element\n",
        "        key = arr[i]  # Store the current element as the key to be inserted in the right position\n",
        "        j = i-1\n",
        "        while j >= 0 and key < arr[j]:  # Move elements greater than key one position ahead\n",
        "            arr[j+1] = arr[j]  # Shift elements to the right\n",
        "            j -= 1\n",
        "        arr[j+1] = key  # Insert the key in the correct position\n",
        "\n",
        "# Sorting the array [12, 11, 13, 5, 6] using insertionSort\n",
        "arr = [5, 4, 3, 2, 1]\n",
        "insertionSort(arr)\n",
        "print(arr)"
      ]
    }
  ]
}