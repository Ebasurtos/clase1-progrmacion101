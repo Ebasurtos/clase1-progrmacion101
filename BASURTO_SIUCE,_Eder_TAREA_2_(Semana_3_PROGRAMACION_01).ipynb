{
  "nbformat": 4,
  "nbformat_minor": 0,
  "metadata": {
    "colab": {
      "provenance": [],
      "authorship_tag": "ABX9TyNhja6XUd2MkdMdaZmwLV1T",
      "include_colab_link": true
    },
    "kernelspec": {
      "name": "python3",
      "display_name": "Python 3"
    },
    "language_info": {
      "name": "python"
    }
  },
  "cells": [
    {
      "cell_type": "markdown",
      "metadata": {
        "id": "view-in-github",
        "colab_type": "text"
      },
      "source": [
        "<a href=\"https://colab.research.google.com/github/Ebasurtos/clase1-progrmacion101/blob/main/BASURTO_SIUCE%2C_Eder_TAREA_2_(Semana_3_PROGRAMACION_01).ipynb\" target=\"_parent\"><img src=\"https://colab.research.google.com/assets/colab-badge.svg\" alt=\"Open In Colab\"/></a>"
      ]
    },
    {
      "cell_type": "markdown",
      "source": [
        "**Ejercicio 1.1:** Operaciones numéricas con listas\n",
        "\n",
        "*  Crea una lista de números entre 1 y 100 usando la función range() (verás cómo usarla en el próximo ejemplo).\n",
        "* Calcula la media de los valores de la lista usando las funciones sum() y len().\n",
        "* Usa sorted() para crear una lista ordenada inversamente de los primeros 50 números.\n",
        "* Crea una lista que contenga solo los números mayores a 50, multiplicados por 2\n"
      ],
      "metadata": {
        "id": "5sOa7DD4K95R"
      }
    },
    {
      "cell_type": "code",
      "source": [
        "#1 LISTA\n",
        "lista = list(range(1,101))\n",
        "print(lista)\n",
        "#2 MEDIA\n",
        "media = sum(lista)/len(lista)\n",
        "print(f'MEDIA de la lista es: {media}')\n",
        "#3 LISTA inversa\n",
        "lista_inversa = sorted(lista, reverse=True)\n",
        "print(lista_inversa)\n",
        "#4 Numeros mayores a 50 multiplicados por 2\n",
        "lista_mayores_50 = list(range(51,100,1))\n",
        "[x*2 for x in lista_mayores_50]\n",
        "\n"
      ],
      "metadata": {
        "colab": {
          "base_uri": "https://localhost:8080/",
          "height": 0
        },
        "id": "I65byi2fLkm3",
        "outputId": "10e212da-b3b1-458a-d8d9-c4447840ee9f"
      },
      "execution_count": 4,
      "outputs": [
        {
          "output_type": "stream",
          "name": "stdout",
          "text": [
            "[1, 2, 3, 4, 5, 6, 7, 8, 9, 10, 11, 12, 13, 14, 15, 16, 17, 18, 19, 20, 21, 22, 23, 24, 25, 26, 27, 28, 29, 30, 31, 32, 33, 34, 35, 36, 37, 38, 39, 40, 41, 42, 43, 44, 45, 46, 47, 48, 49, 50, 51, 52, 53, 54, 55, 56, 57, 58, 59, 60, 61, 62, 63, 64, 65, 66, 67, 68, 69, 70, 71, 72, 73, 74, 75, 76, 77, 78, 79, 80, 81, 82, 83, 84, 85, 86, 87, 88, 89, 90, 91, 92, 93, 94, 95, 96, 97, 98, 99, 100]\n",
            "MEDIA de la lista es: 50.5\n",
            "[100, 99, 98, 97, 96, 95, 94, 93, 92, 91, 90, 89, 88, 87, 86, 85, 84, 83, 82, 81, 80, 79, 78, 77, 76, 75, 74, 73, 72, 71, 70, 69, 68, 67, 66, 65, 64, 63, 62, 61, 60, 59, 58, 57, 56, 55, 54, 53, 52, 51, 50, 49, 48, 47, 46, 45, 44, 43, 42, 41, 40, 39, 38, 37, 36, 35, 34, 33, 32, 31, 30, 29, 28, 27, 26, 25, 24, 23, 22, 21, 20, 19, 18, 17, 16, 15, 14, 13, 12, 11, 10, 9, 8, 7, 6, 5, 4, 3, 2, 1]\n"
          ]
        },
        {
          "output_type": "execute_result",
          "data": {
            "text/plain": [
              "[102,\n",
              " 104,\n",
              " 106,\n",
              " 108,\n",
              " 110,\n",
              " 112,\n",
              " 114,\n",
              " 116,\n",
              " 118,\n",
              " 120,\n",
              " 122,\n",
              " 124,\n",
              " 126,\n",
              " 128,\n",
              " 130,\n",
              " 132,\n",
              " 134,\n",
              " 136,\n",
              " 138,\n",
              " 140,\n",
              " 142,\n",
              " 144,\n",
              " 146,\n",
              " 148,\n",
              " 150,\n",
              " 152,\n",
              " 154,\n",
              " 156,\n",
              " 158,\n",
              " 160,\n",
              " 162,\n",
              " 164,\n",
              " 166,\n",
              " 168,\n",
              " 170,\n",
              " 172,\n",
              " 174,\n",
              " 176,\n",
              " 178,\n",
              " 180,\n",
              " 182,\n",
              " 184,\n",
              " 186,\n",
              " 188,\n",
              " 190,\n",
              " 192,\n",
              " 194,\n",
              " 196,\n",
              " 198]"
            ]
          },
          "metadata": {},
          "execution_count": 4
        }
      ]
    },
    {
      "cell_type": "markdown",
      "source": [
        "**Ejercicio 2:** Creación avanzada con listas por comprensión\n",
        "\n",
        "* Crea una lista de los números impares entre 1 y 50.\n",
        "* Genera una lista con los cubos de los primeros 10 números (1 al 10).\n",
        "* Dada una lista de palabras, crea una nueva lista que contenga las palabras con más de 4 letras en mayúsculas\n"
      ],
      "metadata": {
        "id": "oW6rKSYcQJS0"
      }
    },
    {
      "cell_type": "code",
      "source": [
        "#1 (Dos maneras)\n",
        "Lista_impares=[x for x in range(1,51,2)]\n",
        "print(Lista_impares)\n",
        "[x for x in range(1,51) if x%2 != 0]"
      ],
      "metadata": {
        "colab": {
          "base_uri": "https://localhost:8080/",
          "height": 0
        },
        "id": "OWKhsPKxQdNq",
        "outputId": "fc5e89fb-c8f4-4ac8-f4aa-00f3d7ed3dd4"
      },
      "execution_count": 19,
      "outputs": [
        {
          "output_type": "stream",
          "name": "stdout",
          "text": [
            "[1, 3, 5, 7, 9, 11, 13, 15, 17, 19, 21, 23, 25, 27, 29, 31, 33, 35, 37, 39, 41, 43, 45, 47, 49]\n"
          ]
        },
        {
          "output_type": "execute_result",
          "data": {
            "text/plain": [
              "[1,\n",
              " 3,\n",
              " 5,\n",
              " 7,\n",
              " 9,\n",
              " 11,\n",
              " 13,\n",
              " 15,\n",
              " 17,\n",
              " 19,\n",
              " 21,\n",
              " 23,\n",
              " 25,\n",
              " 27,\n",
              " 29,\n",
              " 31,\n",
              " 33,\n",
              " 35,\n",
              " 37,\n",
              " 39,\n",
              " 41,\n",
              " 43,\n",
              " 45,\n",
              " 47,\n",
              " 49]"
            ]
          },
          "metadata": {},
          "execution_count": 19
        }
      ]
    },
    {
      "cell_type": "code",
      "source": [
        "#2\n",
        "Lista1=[x**3 for x in range(1,11)]\n",
        "print(Lista1)"
      ],
      "metadata": {
        "colab": {
          "base_uri": "https://localhost:8080/",
          "height": 0
        },
        "id": "M-xfHrzVQpVB",
        "outputId": "cd601838-aed5-4571-e64d-84ff3f2f1504"
      },
      "execution_count": 17,
      "outputs": [
        {
          "output_type": "stream",
          "name": "stdout",
          "text": [
            "[1, 8, 27, 64, 125, 216, 343, 512, 729, 1000]\n"
          ]
        }
      ]
    },
    {
      "cell_type": "code",
      "source": [
        "#3\n",
        "Palabras = ['Sebastian', 'JULIO', 'JORGE', 'Jhon','ANTONIO', 'Alejandro']\n",
        "[x.upper() for x in Palabras if len(x)>4]"
      ],
      "metadata": {
        "colab": {
          "base_uri": "https://localhost:8080/"
        },
        "id": "U0aThu__Qzpf",
        "outputId": "f74b86e3-5d55-458d-9fc5-1a0a81fd24f9"
      },
      "execution_count": 28,
      "outputs": [
        {
          "output_type": "execute_result",
          "data": {
            "text/plain": [
              "['SEBASTIAN', 'JULIO', 'JORGE', 'ANTONIO', 'ALEJANDRO']"
            ]
          },
          "metadata": {},
          "execution_count": 28
        }
      ]
    },
    {
      "cell_type": "markdown",
      "source": [
        "**Ejercicio 3:** Aplicaciones de slicing\n",
        "\n",
        "Crea una lista con los números del 1 al 100. Luego, usando slicing:\n",
        "\n",
        "\n",
        "*  Extrae los primeros 10 números\n",
        "*  Extrae los últimos 10 números.\n",
        "*  Extrae todos los números en posiciones impares.\n",
        "*  Usa slicing para dividir una lista de palabras en dos mitades"
      ],
      "metadata": {
        "id": "yzChAt_sco7-"
      }
    },
    {
      "cell_type": "code",
      "source": [
        "Lista=list(range(1,101))\n",
        "print(Lista)"
      ],
      "metadata": {
        "colab": {
          "base_uri": "https://localhost:8080/"
        },
        "id": "lqwAFyhqc7d5",
        "outputId": "aaa734b1-b70e-4aff-846d-1747c71bf5c1"
      },
      "execution_count": 29,
      "outputs": [
        {
          "output_type": "stream",
          "name": "stdout",
          "text": [
            "[1, 2, 3, 4, 5, 6, 7, 8, 9, 10, 11, 12, 13, 14, 15, 16, 17, 18, 19, 20, 21, 22, 23, 24, 25, 26, 27, 28, 29, 30, 31, 32, 33, 34, 35, 36, 37, 38, 39, 40, 41, 42, 43, 44, 45, 46, 47, 48, 49, 50, 51, 52, 53, 54, 55, 56, 57, 58, 59, 60, 61, 62, 63, 64, 65, 66, 67, 68, 69, 70, 71, 72, 73, 74, 75, 76, 77, 78, 79, 80, 81, 82, 83, 84, 85, 86, 87, 88, 89, 90, 91, 92, 93, 94, 95, 96, 97, 98, 99, 100]\n"
          ]
        }
      ]
    },
    {
      "cell_type": "code",
      "source": [
        "#1\n",
        "Lista[0:10]"
      ],
      "metadata": {
        "colab": {
          "base_uri": "https://localhost:8080/"
        },
        "id": "MlIqH1M4dH_7",
        "outputId": "de5ae263-1fc5-471c-8f53-fd4d08877392"
      },
      "execution_count": 37,
      "outputs": [
        {
          "output_type": "execute_result",
          "data": {
            "text/plain": [
              "[1, 2, 3, 4, 5, 6, 7, 8, 9, 10]"
            ]
          },
          "metadata": {},
          "execution_count": 37
        }
      ]
    },
    {
      "cell_type": "code",
      "source": [
        "#2\n",
        "Lista[90:100]"
      ],
      "metadata": {
        "colab": {
          "base_uri": "https://localhost:8080/"
        },
        "id": "6G6D8AopdoC6",
        "outputId": "95f77ad7-0a81-4ba3-c5de-377b7985019e"
      },
      "execution_count": 39,
      "outputs": [
        {
          "output_type": "execute_result",
          "data": {
            "text/plain": [
              "[91, 92, 93, 94, 95, 96, 97, 98, 99, 100]"
            ]
          },
          "metadata": {},
          "execution_count": 39
        }
      ]
    },
    {
      "cell_type": "code",
      "source": [
        "#3\n",
        "Lista[0::2]"
      ],
      "metadata": {
        "id": "iIgwC7m4d367"
      },
      "execution_count": null,
      "outputs": []
    },
    {
      "cell_type": "code",
      "source": [
        "#4\n",
        "Palabra=['Liberaciones']\n",
        "Palabra[0][0:4]+Palabra[0][4:12]"
      ],
      "metadata": {
        "colab": {
          "base_uri": "https://localhost:8080/",
          "height": 35
        },
        "id": "lV2NdNePeCYx",
        "outputId": "11f6e2da-b42d-4676-e9bf-5d33e1438fb7"
      },
      "execution_count": 60,
      "outputs": [
        {
          "output_type": "execute_result",
          "data": {
            "text/plain": [
              "'Liberaciones'"
            ],
            "application/vnd.google.colaboratory.intrinsic+json": {
              "type": "string"
            }
          },
          "metadata": {},
          "execution_count": 60
        }
      ]
    },
    {
      "cell_type": "markdown",
      "source": [
        "**Desafío 1:** Análisis de ventas de una tienda de ropa\n",
        "\n",
        "Eres el encargado de una tienda de ropa y tienes una lista de ventas diarias para diferentes productos. Cada día, vendes camisetas, pantalones y zapatos. Quieres analizar las ventas para entender mejor el rendimiento de cada producto.\n",
        "\n",
        "*Objetivo:*\n",
        "\n",
        "\n",
        "* Crea tres listas: una para camisetas, otra para pantalones y una para zapatos, con la cantidad vendida cada día durante una semana.\n",
        "* Usa slicing para extraer las ventas de los últimos 3 días de cada producto.\n",
        "* Usa listas por comprensión para calcular el total de ventas de cada producto y el promedio de ventas diarias.\n",
        "* Clasifica los productos en \"buenas ventas\" o \"malas ventas\" según si el promedio de ventas diarias es mayor o menor a 5.\n",
        "\n",
        "\n",
        "Instrucciones:\n",
        "\n",
        "\n",
        "* Genera los datos de ventas usando listas manualmente o simulándolos con valores constantes.\n",
        "* Calcula el total de ventas por producto usando sum() y el promedio con len().\n",
        "* Usa listas por comprensión para clasificar las ventas de los producto\n"
      ],
      "metadata": {
        "id": "aMMKuDyoglOC"
      }
    },
    {
      "cell_type": "code",
      "source": [
        "#1\n",
        "Lista_camisetas=[104,112,102,108,111,123,100]\n",
        "Lista_pantalones=[178,186,155,143,183,176,180]\n",
        "Lista_zapatos=[132,133,142,126,128,154,143]"
      ],
      "metadata": {
        "colab": {
          "base_uri": "https://localhost:8080/"
        },
        "id": "IRGjEsIjhIrA",
        "outputId": "aab2fde8-cc54-47c7-f665-117552295320"
      },
      "execution_count": 75,
      "outputs": [
        {
          "output_type": "execute_result",
          "data": {
            "text/plain": [
              "[111, 123, 100]"
            ]
          },
          "metadata": {},
          "execution_count": 75
        }
      ]
    },
    {
      "cell_type": "code",
      "source": [
        "#2\n",
        "Lista_camisetas[-3:]"
      ],
      "metadata": {
        "colab": {
          "base_uri": "https://localhost:8080/"
        },
        "id": "eKVoja3kkjiY",
        "outputId": "0e672035-b300-4305-f86b-52ba7f7a7205"
      },
      "execution_count": 76,
      "outputs": [
        {
          "output_type": "execute_result",
          "data": {
            "text/plain": [
              "[111, 123, 100]"
            ]
          },
          "metadata": {},
          "execution_count": 76
        }
      ]
    },
    {
      "cell_type": "code",
      "source": [
        "#2\n",
        "Lista_pantalones[-3:]"
      ],
      "metadata": {
        "colab": {
          "base_uri": "https://localhost:8080/"
        },
        "id": "JG5-ekS9kXBh",
        "outputId": "29d8ebf3-9dd3-4cde-d171-f1a6be12744f"
      },
      "execution_count": 73,
      "outputs": [
        {
          "output_type": "execute_result",
          "data": {
            "text/plain": [
              "[183, 176, 180]"
            ]
          },
          "metadata": {},
          "execution_count": 73
        }
      ]
    },
    {
      "cell_type": "code",
      "source": [
        "#2\n",
        "Lista_zapatos[-3:]"
      ],
      "metadata": {
        "colab": {
          "base_uri": "https://localhost:8080/"
        },
        "id": "bJeMbmuNkZXG",
        "outputId": "a96961d0-f27a-4513-85cb-a262cb05b982"
      },
      "execution_count": 74,
      "outputs": [
        {
          "output_type": "execute_result",
          "data": {
            "text/plain": [
              "[128, 154, 143]"
            ]
          },
          "metadata": {},
          "execution_count": 74
        }
      ]
    },
    {
      "cell_type": "code",
      "source": [
        "#3\n",
        "camisetas=[x for x in Lista_camisetas]\n",
        "print(f'El total de ventas totales de Camisetas es: {sum(camisetas)}')\n",
        "print(f'El promedio de ventas diarias de Camisetas es: {sum(camisetas)/len(camisetas)}')\n",
        "pantalones=[x for x in Lista_pantalones]\n",
        "print(f'El total de ventas totales de pantalones es: {sum(pantalones)}')\n",
        "print(f'El promedio de ventas diarias de pantalones es: {sum(pantalones)/len(pantalones)}')\n",
        "zapatos=[x for x in Lista_zapatos]\n",
        "print(f'El total de ventas totales de zapatos es: {sum(zapatos)}')\n",
        "print(f'El promedio de ventas diarias de zapatos es: {sum(zapatos)/len(zapatos)}')\n"
      ],
      "metadata": {
        "colab": {
          "base_uri": "https://localhost:8080/"
        },
        "id": "CyiCl_aak9Sp",
        "outputId": "d24d429a-59c4-4f7d-e457-703cbd684777"
      },
      "execution_count": 99,
      "outputs": [
        {
          "output_type": "stream",
          "name": "stdout",
          "text": [
            "El total de ventas totales de Camisetas es: 760\n",
            "El promedio de ventas diarias de Camisetas es: 108.57142857142857\n",
            "El total de ventas totales de pantalones es: 1201\n",
            "El promedio de ventas diarias de pantalones es: 171.57142857142858\n",
            "El total de ventas totales de zapatos es: 958\n",
            "El promedio de ventas diarias de zapatos es: 136.85714285714286\n"
          ]
        }
      ]
    },
    {
      "cell_type": "code",
      "source": [
        "# 4 Toda venta por dia encima del promedio, se denominaria \"Buenas ventas\"\n",
        "BV_camisetas=[x for x in Lista_camisetas if x>=sum(camisetas)/len(camisetas)]\n",
        "print(f'Buena venta de camisetas: {BV_camisetas}')\n",
        "MV_camisetas=[x for x in Lista_camisetas if x<sum(camisetas)/len(camisetas)]\n",
        "print(f'Mala venta de camisetas: {MV_camisetas}')\n",
        "BV_pantalones=[x for x in Lista_pantalones if x>=sum(pantalones)/len(pantalones)]\n",
        "print(f'Buena venta de pantalones: {BV_pantalones}')\n",
        "MV_pantalones=[x for x in Lista_pantalones if x<sum(pantalones)/len(pantalones)]\n",
        "print(f'Mala venta de pantalones: {MV_pantalones}')\n",
        "BV_zapatos=[x for x in Lista_zapatos if x>=sum(zapatos)/len(zapatos)]\n",
        "print(f'Buena venta de zapatos: {BV_zapatos}')\n",
        "MV_zapatos=[x for x in Lista_zapatos if x<sum(zapatos)/len(zapatos)]\n",
        "print(f'Mala venta de zapatos: {MV_zapatos}')"
      ],
      "metadata": {
        "colab": {
          "base_uri": "https://localhost:8080/"
        },
        "id": "QTJ2HtOCoLWf",
        "outputId": "a43dfa5b-3ca1-46b6-afc1-2f6c3f4c0e42"
      },
      "execution_count": 103,
      "outputs": [
        {
          "output_type": "stream",
          "name": "stdout",
          "text": [
            "Buena venta de camisetas: [112, 111, 123]\n",
            "Mala venta de camisetas: [104, 102, 108, 100]\n",
            "Buena venta de pantalones: [178, 186, 183, 176, 180]\n",
            "Mala venta de pantalones: [155, 143]\n",
            "Buena venta de zapatos: [142, 154, 143]\n",
            "Mala venta de zapatos: [132, 133, 126, 128]\n"
          ]
        }
      ]
    },
    {
      "cell_type": "code",
      "source": [],
      "metadata": {
        "id": "VdexdSExtdoN"
      },
      "execution_count": null,
      "outputs": []
    }
  ]
}