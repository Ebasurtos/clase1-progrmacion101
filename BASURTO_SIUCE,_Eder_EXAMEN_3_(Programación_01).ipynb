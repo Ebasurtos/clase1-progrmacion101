{
  "nbformat": 4,
  "nbformat_minor": 0,
  "metadata": {
    "colab": {
      "provenance": [],
      "authorship_tag": "ABX9TyNxQctJWfio7rR60qoncGf2",
      "include_colab_link": true
    },
    "kernelspec": {
      "name": "python3",
      "display_name": "Python 3"
    },
    "language_info": {
      "name": "python"
    }
  },
  "cells": [
    {
      "cell_type": "markdown",
      "metadata": {
        "id": "view-in-github",
        "colab_type": "text"
      },
      "source": [
        "<a href=\"https://colab.research.google.com/github/Ebasurtos/clase1-progrmacion101/blob/main/BASURTO_SIUCE%2C_Eder_EXAMEN_3_(Programaci%C3%B3n_01).ipynb\" target=\"_parent\"><img src=\"https://colab.research.google.com/assets/colab-badge.svg\" alt=\"Open In Colab\"/></a>"
      ]
    },
    {
      "cell_type": "markdown",
      "source": [
        "**PREGUNTA 1:**"
      ],
      "metadata": {
        "id": "ICWP8qSjNEtN"
      }
    },
    {
      "cell_type": "markdown",
      "source": [
        " a) Crea un array unidimensional que contenga los números primos entre 1 y 50.\n",
        "\n"
      ],
      "metadata": {
        "id": "EgSDhWJbMyPE"
      }
    },
    {
      "cell_type": "code",
      "execution_count": 27,
      "metadata": {
        "colab": {
          "base_uri": "https://localhost:8080/"
        },
        "id": "bilkYfWrMiqv",
        "outputId": "2a1496e4-7c15-4096-fea6-f09f0b0cda9f"
      },
      "outputs": [
        {
          "output_type": "execute_result",
          "data": {
            "text/plain": [
              "[2, 3, 5, 7, 11, 13, 17, 19, 23, 29, 31, 37, 41, 43, 47]"
            ]
          },
          "metadata": {},
          "execution_count": 27
        }
      ],
      "source": [
        "def es_primo(n):\n",
        "\n",
        "  if n <= 1:\n",
        "    return False\n",
        "  for i in range(2, int(n**0.5) + 1):\n",
        "    if n % i == 0:\n",
        "      return False\n",
        "  return True\n",
        "\n",
        "primos = []\n",
        "for i in range(2, 51):\n",
        "  if es_primo(i):\n",
        "    primos.append(i)\n",
        "\n",
        "primos"
      ]
    },
    {
      "cell_type": "markdown",
      "source": [
        "b) Convierte el array unidimensional anterior en una matriz de forma (n, 2), donde n es el número adecuado de\n",
        " filas. Si es necesario, agrega ceros al final del array para completar la matriz."
      ],
      "metadata": {
        "id": "uwOkhKP-Nra0"
      }
    },
    {
      "cell_type": "code",
      "source": [
        "import numpy as np\n",
        "\n",
        "n = len(primos)\n",
        "n_filas = (n + 1) // 2\n",
        "\n",
        "matriz_primos = np.zeros((n_filas, 2), dtype=int)\n",
        "\n",
        "for i in range(n_filas):\n",
        "  matriz_primos[i, 0] = primos[2*i] if 2*i < n else 0\n",
        "  matriz_primos[i, 1] = primos[2*i + 1] if 2*i + 1 < n else 0\n",
        "\n",
        "matriz_primos"
      ],
      "metadata": {
        "colab": {
          "base_uri": "https://localhost:8080/"
        },
        "id": "QZkaE0tkNsw4",
        "outputId": "ef76572e-352b-4190-a807-cf94cc9cde51"
      },
      "execution_count": 29,
      "outputs": [
        {
          "output_type": "execute_result",
          "data": {
            "text/plain": [
              "array([[ 2,  3],\n",
              "       [ 5,  7],\n",
              "       [11, 13],\n",
              "       [17, 19],\n",
              "       [23, 29],\n",
              "       [31, 37],\n",
              "       [41, 43],\n",
              "       [47,  0]])"
            ]
          },
          "metadata": {},
          "execution_count": 29
        }
      ]
    },
    {
      "cell_type": "markdown",
      "source": [
        " c) Calcula la suma de cada fila y crea un nuevo array que contenga estos valores."
      ],
      "metadata": {
        "id": "BrwepEiaOPNY"
      }
    },
    {
      "cell_type": "code",
      "source": [
        "suma_filas = np.sum(matriz_primos, axis=1)\n",
        "suma_filas"
      ],
      "metadata": {
        "colab": {
          "base_uri": "https://localhost:8080/"
        },
        "id": "gFaWPI9HOO3f",
        "outputId": "68cf6292-3bc0-447d-8ce4-825e4057d75f"
      },
      "execution_count": 28,
      "outputs": [
        {
          "output_type": "execute_result",
          "data": {
            "text/plain": [
              "array([ 5, 12, 24, 36, 52, 68, 84, 47])"
            ]
          },
          "metadata": {},
          "execution_count": 28
        }
      ]
    },
    {
      "cell_type": "markdown",
      "source": [
        "**PREGUNTA 2:**"
      ],
      "metadata": {
        "id": "rspyymVcOfk7"
      }
    },
    {
      "cell_type": "markdown",
      "source": [
        " a) Crea un array bidimensional de forma (4, 4) que contenga números enteros aleatorios entre 1 y 100."
      ],
      "metadata": {
        "id": "2RxjUf-VOmCi"
      }
    },
    {
      "cell_type": "code",
      "source": [
        "array_2d = np.random.randint(1, 101, size=(4, 4))\n",
        "array_2d"
      ],
      "metadata": {
        "colab": {
          "base_uri": "https://localhost:8080/"
        },
        "id": "PjW-3_JkOt5u",
        "outputId": "a71e4bbc-2d12-4e14-d18f-3961fe708274"
      },
      "execution_count": 30,
      "outputs": [
        {
          "output_type": "execute_result",
          "data": {
            "text/plain": [
              "array([[43,  8, 98, 61],\n",
              "       [46, 66, 39, 66],\n",
              "       [19, 25, 79, 42],\n",
              "       [97,  1, 51, 18]])"
            ]
          },
          "metadata": {},
          "execution_count": 30
        }
      ]
    },
    {
      "cell_type": "markdown",
      "source": [
        "b) Cambia el tipo de datos del array a float64 y divide todos los elementos por 3.7."
      ],
      "metadata": {
        "id": "5JLmyg8POx0Y"
      }
    },
    {
      "cell_type": "code",
      "source": [
        "array_2d = array_2d.astype(np.float64) / 3.7\n",
        "array_2d"
      ],
      "metadata": {
        "colab": {
          "base_uri": "https://localhost:8080/"
        },
        "id": "vcPp8gQBO11v",
        "outputId": "36a9b206-b1ce-4a4a-c6f2-c45b5a19cfe3"
      },
      "execution_count": 31,
      "outputs": [
        {
          "output_type": "execute_result",
          "data": {
            "text/plain": [
              "array([[11.62162162,  2.16216216, 26.48648649, 16.48648649],\n",
              "       [12.43243243, 17.83783784, 10.54054054, 17.83783784],\n",
              "       [ 5.13513514,  6.75675676, 21.35135135, 11.35135135],\n",
              "       [26.21621622,  0.27027027, 13.78378378,  4.86486486]])"
            ]
          },
          "metadata": {},
          "execution_count": 31
        }
      ]
    },
    {
      "cell_type": "markdown",
      "source": [
        " c) Calcula y muestra las siguientes propiedades del array resultante:\n",
        "\n",
        " ● Dimensiones (ndim)\n",
        "\n",
        " ● Forma(shape)\n",
        "\n",
        " ● Tamañototal (size)\n",
        "\n",
        " ● Tipodedatos (dtype)"
      ],
      "metadata": {
        "id": "2EUy16p_O1iS"
      }
    },
    {
      "cell_type": "code",
      "source": [
        "print(\"Dimensiones:\", array_2d.ndim)\n",
        "print(\"Forma:\", array_2d.shape)\n",
        "print(\"Tamaño total:\", array_2d.size)\n",
        "print(\"Tipo de datos:\", array_2d.dtype)"
      ],
      "metadata": {
        "colab": {
          "base_uri": "https://localhost:8080/"
        },
        "id": "H-GONWwHPImO",
        "outputId": "a48a40eb-0ee9-4bf1-a81b-0e07af3538d0"
      },
      "execution_count": 32,
      "outputs": [
        {
          "output_type": "stream",
          "name": "stdout",
          "text": [
            "Dimensiones: 2\n",
            "Forma: (4, 4)\n",
            "Tamaño total: 16\n",
            "Tipo de datos: float64\n"
          ]
        }
      ]
    },
    {
      "cell_type": "markdown",
      "source": [
        "**PREGUNTA 3:**"
      ],
      "metadata": {
        "id": "1WSDsftVPJRo"
      }
    },
    {
      "cell_type": "markdown",
      "source": [
        " a) Crea un array x que contenga 100 valores equiespaciados entre-10 y 10."
      ],
      "metadata": {
        "id": "B6612WbiPXmh"
      }
    },
    {
      "cell_type": "code",
      "source": [
        "x = np.linspace(-10, 10, 100)\n",
        "x"
      ],
      "metadata": {
        "colab": {
          "base_uri": "https://localhost:8080/"
        },
        "id": "ALnaEa4IPYm-",
        "outputId": "9884c5b5-2586-4f59-892c-f7be28a30354"
      },
      "execution_count": 33,
      "outputs": [
        {
          "output_type": "execute_result",
          "data": {
            "text/plain": [
              "array([-10.        ,  -9.7979798 ,  -9.5959596 ,  -9.39393939,\n",
              "        -9.19191919,  -8.98989899,  -8.78787879,  -8.58585859,\n",
              "        -8.38383838,  -8.18181818,  -7.97979798,  -7.77777778,\n",
              "        -7.57575758,  -7.37373737,  -7.17171717,  -6.96969697,\n",
              "        -6.76767677,  -6.56565657,  -6.36363636,  -6.16161616,\n",
              "        -5.95959596,  -5.75757576,  -5.55555556,  -5.35353535,\n",
              "        -5.15151515,  -4.94949495,  -4.74747475,  -4.54545455,\n",
              "        -4.34343434,  -4.14141414,  -3.93939394,  -3.73737374,\n",
              "        -3.53535354,  -3.33333333,  -3.13131313,  -2.92929293,\n",
              "        -2.72727273,  -2.52525253,  -2.32323232,  -2.12121212,\n",
              "        -1.91919192,  -1.71717172,  -1.51515152,  -1.31313131,\n",
              "        -1.11111111,  -0.90909091,  -0.70707071,  -0.50505051,\n",
              "        -0.3030303 ,  -0.1010101 ,   0.1010101 ,   0.3030303 ,\n",
              "         0.50505051,   0.70707071,   0.90909091,   1.11111111,\n",
              "         1.31313131,   1.51515152,   1.71717172,   1.91919192,\n",
              "         2.12121212,   2.32323232,   2.52525253,   2.72727273,\n",
              "         2.92929293,   3.13131313,   3.33333333,   3.53535354,\n",
              "         3.73737374,   3.93939394,   4.14141414,   4.34343434,\n",
              "         4.54545455,   4.74747475,   4.94949495,   5.15151515,\n",
              "         5.35353535,   5.55555556,   5.75757576,   5.95959596,\n",
              "         6.16161616,   6.36363636,   6.56565657,   6.76767677,\n",
              "         6.96969697,   7.17171717,   7.37373737,   7.57575758,\n",
              "         7.77777778,   7.97979798,   8.18181818,   8.38383838,\n",
              "         8.58585859,   8.78787879,   8.98989899,   9.19191919,\n",
              "         9.39393939,   9.5959596 ,   9.7979798 ,  10.        ])"
            ]
          },
          "metadata": {},
          "execution_count": 33
        }
      ]
    },
    {
      "cell_type": "markdown",
      "source": [
        "b) Calcula el valor de la función f(x)=e**(-x**2) para cada elemento de x."
      ],
      "metadata": {
        "id": "IKGwntWDPZgW"
      }
    },
    {
      "cell_type": "code",
      "source": [
        "import math\n",
        "\n",
        "funcion_x = np.exp(-x**2)\n",
        "funcion_x"
      ],
      "metadata": {
        "colab": {
          "base_uri": "https://localhost:8080/"
        },
        "id": "WfCN2prWPb97",
        "outputId": "08cc9302-983c-4fd5-bf2d-2d8ee5a96216"
      },
      "execution_count": 34,
      "outputs": [
        {
          "output_type": "execute_result",
          "data": {
            "text/plain": [
              "array([3.72007598e-44, 2.03026390e-42, 1.02118442e-40, 4.73376699e-39,\n",
              "       2.02236984e-37, 7.96279046e-36, 2.88948872e-34, 9.66335032e-33,\n",
              "       2.97841666e-31, 8.46046409e-30, 2.21489900e-28, 5.34397817e-27,\n",
              "       1.18830091e-25, 2.43522554e-24, 4.59941880e-23, 8.00603952e-22,\n",
              "       1.28435035e-20, 1.89889213e-19, 2.58742690e-18, 3.24927813e-17,\n",
              "       3.76059612e-16, 4.01122945e-15, 3.94320471e-14, 3.57249927e-13,\n",
              "       2.98295005e-12, 2.29546576e-11, 1.62797100e-10, 1.06407812e-09,\n",
              "       6.40990174e-09, 3.55860870e-08, 1.82079103e-07, 8.58600196e-07,\n",
              "       3.73140910e-06, 1.49453385e-05, 5.51683065e-05, 1.87682835e-04,\n",
              "       5.88451217e-04, 1.70038545e-03, 4.52830117e-03, 1.11140983e-02,\n",
              "       2.51399360e-02, 5.24089078e-02, 1.00692485e-01, 1.78295348e-01,\n",
              "       2.90960459e-01, 4.37601640e-01, 6.06561603e-01, 7.74857597e-01,\n",
              "       9.12262625e-01, 9.89848834e-01, 9.89848834e-01, 9.12262625e-01,\n",
              "       7.74857597e-01, 6.06561603e-01, 4.37601640e-01, 2.90960459e-01,\n",
              "       1.78295348e-01, 1.00692485e-01, 5.24089078e-02, 2.51399360e-02,\n",
              "       1.11140983e-02, 4.52830117e-03, 1.70038545e-03, 5.88451217e-04,\n",
              "       1.87682835e-04, 5.51683065e-05, 1.49453385e-05, 3.73140910e-06,\n",
              "       8.58600196e-07, 1.82079103e-07, 3.55860870e-08, 6.40990174e-09,\n",
              "       1.06407812e-09, 1.62797100e-10, 2.29546576e-11, 2.98295005e-12,\n",
              "       3.57249927e-13, 3.94320471e-14, 4.01122945e-15, 3.76059612e-16,\n",
              "       3.24927813e-17, 2.58742690e-18, 1.89889213e-19, 1.28435035e-20,\n",
              "       8.00603952e-22, 4.59941880e-23, 2.43522554e-24, 1.18830091e-25,\n",
              "       5.34397817e-27, 2.21489900e-28, 8.46046409e-30, 2.97841666e-31,\n",
              "       9.66335032e-33, 2.88948872e-34, 7.96279046e-36, 2.02236984e-37,\n",
              "       4.73376699e-39, 1.02118442e-40, 2.03026390e-42, 3.72007598e-44])"
            ]
          },
          "metadata": {},
          "execution_count": 34
        }
      ]
    },
    {
      "cell_type": "markdown",
      "source": [
        " c) Encuentra el valor máximo y mínimo de f(x) y las posiciones en el array donde ocurren."
      ],
      "metadata": {
        "id": "ZHuaBVoCPffL"
      }
    },
    {
      "cell_type": "code",
      "source": [
        "valor_maximo = np.max(funcion_x)\n",
        "posicion_maximo = np.argmax(funcion_x)\n",
        "valor_minimo = np.min(funcion_x)\n",
        "posicion_minimo = np.argmin(funcion_x)\n",
        "\n",
        "print(\"Valor máximo de f(x):\", valor_maximo)\n",
        "print(\"Posición del valor máximo:\", posicion_maximo)\n",
        "print(\"Valor mínimo de f(x):\", valor_minimo)\n",
        "print(\"Posición del valor mínimo:\", posicion_minimo)"
      ],
      "metadata": {
        "colab": {
          "base_uri": "https://localhost:8080/"
        },
        "id": "RZyqitahPgR6",
        "outputId": "18907b73-828c-45d2-87e5-bb2a12171c67"
      },
      "execution_count": 35,
      "outputs": [
        {
          "output_type": "stream",
          "name": "stdout",
          "text": [
            "Valor máximo de f(x): 0.9898488339361309\n",
            "Posición del valor máximo: 49\n",
            "Valor mínimo de f(x): 3.720075976020836e-44\n",
            "Posición del valor mínimo: 0\n"
          ]
        }
      ]
    },
    {
      "cell_type": "markdown",
      "source": [
        "PREGUNTA 4:"
      ],
      "metadata": {
        "id": "-SyO9AhGPiA4"
      }
    },
    {
      "cell_type": "markdown",
      "source": [
        " Dado el siguiente array bidimensional:\n",
        " array = np.arange(1, 101).reshape(10, 10)"
      ],
      "metadata": {
        "id": "T74AahnpPvU0"
      }
    },
    {
      "cell_type": "markdown",
      "source": [
        " a) Extrae un subarray que contenga los elementos en posiciones pares de filas y columnas (es decir, filas y\n",
        " columnas con índices 0, 2, 4, 6, 8)."
      ],
      "metadata": {
        "id": "rCkRhyKLPwPo"
      }
    },
    {
      "cell_type": "code",
      "source": [
        "array = np.arange(1, 101).reshape(10, 10)\n",
        "sub_array = array[::2, ::2]\n",
        "sub_array"
      ],
      "metadata": {
        "colab": {
          "base_uri": "https://localhost:8080/"
        },
        "id": "v3VW6BGxP0Dy",
        "outputId": "a4435903-9958-46a4-e695-2e04ff473b1c"
      },
      "execution_count": 36,
      "outputs": [
        {
          "output_type": "execute_result",
          "data": {
            "text/plain": [
              "array([[ 1,  3,  5,  7,  9],\n",
              "       [21, 23, 25, 27, 29],\n",
              "       [41, 43, 45, 47, 49],\n",
              "       [61, 63, 65, 67, 69],\n",
              "       [81, 83, 85, 87, 89]])"
            ]
          },
          "metadata": {},
          "execution_count": 36
        }
      ]
    },
    {
      "cell_type": "markdown",
      "source": [
        " b) Reemplaza todos los elementos que son múltiplos de 3 por-1."
      ],
      "metadata": {
        "id": "Zwgw_YQ1P08H"
      }
    },
    {
      "cell_type": "code",
      "source": [
        "sub_array[sub_array % 3 == 0] = -1\n",
        "sub_array"
      ],
      "metadata": {
        "colab": {
          "base_uri": "https://localhost:8080/"
        },
        "id": "vi7ljNeEP3Yz",
        "outputId": "7d4f2f1a-8f42-4ba4-e4af-1b718a16e420"
      },
      "execution_count": 37,
      "outputs": [
        {
          "output_type": "execute_result",
          "data": {
            "text/plain": [
              "array([[ 1, -1,  5,  7, -1],\n",
              "       [-1, 23, 25, -1, 29],\n",
              "       [41, 43, -1, 47, 49],\n",
              "       [61, -1, 65, 67, -1],\n",
              "       [-1, 83, 85, -1, 89]])"
            ]
          },
          "metadata": {},
          "execution_count": 37
        }
      ]
    },
    {
      "cell_type": "markdown",
      "source": [
        "c) Utiliza indexación avanzada para extraer todos los números primos del array original y crea un nuevo array\n",
        " con estos valores."
      ],
      "metadata": {
        "id": "upshC31IP6Lf"
      }
    },
    {
      "cell_type": "code",
      "source": [
        "primos_array = array[np.vectorize(es_primo)(array)]\n",
        "primos_array"
      ],
      "metadata": {
        "colab": {
          "base_uri": "https://localhost:8080/"
        },
        "id": "f2P-VCqlP7kY",
        "outputId": "e986b4a5-9693-4c0f-8732-67769b64d2b0"
      },
      "execution_count": 38,
      "outputs": [
        {
          "output_type": "execute_result",
          "data": {
            "text/plain": [
              "array([ 2,  5,  7, 11, 13, 17, 19, 23, 29, 31, 37, 41, 43, 47, 53, 59, 61,\n",
              "       67, 71, 73, 79, 83, 89, 97])"
            ]
          },
          "metadata": {},
          "execution_count": 38
        }
      ]
    },
    {
      "cell_type": "markdown",
      "source": [
        "PREGUNTA 5:"
      ],
      "metadata": {
        "id": "SH9z-GfEQBVf"
      }
    },
    {
      "cell_type": "markdown",
      "source": [
        " a) Crea tres arrays unidimensionales de longitud 5 con números aleatorios entre 0 y 1."
      ],
      "metadata": {
        "id": "_ti8xdvoQDIE"
      }
    },
    {
      "cell_type": "code",
      "source": [
        "array1 = np.random.rand(5)\n",
        "array2 = np.random.rand(5)\n",
        "array3 = np.random.rand(5)\n",
        "\n",
        "print(\"Array 1:\", array1)\n",
        "print(\"Array 2:\", array2)\n",
        "print(\"Array 3:\", array3)"
      ],
      "metadata": {
        "colab": {
          "base_uri": "https://localhost:8080/"
        },
        "id": "GA89nNXxQJ8c",
        "outputId": "f4a7107e-54e1-4ace-9840-ccb0db711d4d"
      },
      "execution_count": 39,
      "outputs": [
        {
          "output_type": "stream",
          "name": "stdout",
          "text": [
            "Array 1: [0.88617047 0.07307434 0.53782684 0.57827093 0.4967988 ]\n",
            "Array 2: [0.72953104 0.41609104 0.68834974 0.97768604 0.34469846]\n",
            "Array 3: [0.25841717 0.81347171 0.68264449 0.50589128 0.59174938]\n"
          ]
        }
      ]
    },
    {
      "cell_type": "markdown",
      "source": [
        " b) Combina estos arrays para formar una matriz de forma (5, 3)."
      ],
      "metadata": {
        "id": "BpqQ0dWRQGm3"
      }
    },
    {
      "cell_type": "code",
      "source": [
        "matriz_combinada = np.column_stack((array1, array2, array3))\n",
        "print(\"Matriz combinada:\\n\", matriz_combinada)"
      ],
      "metadata": {
        "colab": {
          "base_uri": "https://localhost:8080/"
        },
        "id": "j1hS_Nl4QF6c",
        "outputId": "eb360e22-7639-40b5-b6d8-da6fd7bc6741"
      },
      "execution_count": 40,
      "outputs": [
        {
          "output_type": "stream",
          "name": "stdout",
          "text": [
            "Matriz combinada:\n",
            " [[0.88617047 0.72953104 0.25841717]\n",
            " [0.07307434 0.41609104 0.81347171]\n",
            " [0.53782684 0.68834974 0.68264449]\n",
            " [0.57827093 0.97768604 0.50589128]\n",
            " [0.4967988  0.34469846 0.59174938]]\n"
          ]
        }
      ]
    },
    {
      "cell_type": "markdown",
      "source": [
        " c) Agrega una columna de unos al principio de la matriz resultante, obteniendo una matriz de forma (5, 4)."
      ],
      "metadata": {
        "id": "pt00alcnQLOa"
      }
    },
    {
      "cell_type": "code",
      "source": [
        "unos = np.ones((5, 1))\n",
        "matriz_final = np.concatenate((unos, matriz_combinada), axis=1)\n",
        "print(\"Matriz final:\\n\", matriz_final)"
      ],
      "metadata": {
        "colab": {
          "base_uri": "https://localhost:8080/"
        },
        "id": "wH6ZeSzVQItp",
        "outputId": "778a8e5c-253f-44f2-d9cf-fafa65047b4b"
      },
      "execution_count": 41,
      "outputs": [
        {
          "output_type": "stream",
          "name": "stdout",
          "text": [
            "Matriz final:\n",
            " [[1.         0.88617047 0.72953104 0.25841717]\n",
            " [1.         0.07307434 0.41609104 0.81347171]\n",
            " [1.         0.53782684 0.68834974 0.68264449]\n",
            " [1.         0.57827093 0.97768604 0.50589128]\n",
            " [1.         0.4967988  0.34469846 0.59174938]]\n"
          ]
        }
      ]
    },
    {
      "cell_type": "markdown",
      "source": [
        "d) Reordena las columnas de la matriz para que la columna de unos esté al final."
      ],
      "metadata": {
        "id": "hXtOqscBQO1u"
      }
    },
    {
      "cell_type": "code",
      "source": [
        "matriz_reordenada = np.concatenate((matriz_final[:, 1:], matriz_final[:, 0:1]), axis=1)\n",
        "print(\"Matriz reordenada:\\n\", matriz_reordenada)"
      ],
      "metadata": {
        "colab": {
          "base_uri": "https://localhost:8080/"
        },
        "id": "aFb05JmmQRRy",
        "outputId": "e41077c5-e706-44dd-ab9c-b4b2d1ab096e"
      },
      "execution_count": 42,
      "outputs": [
        {
          "output_type": "stream",
          "name": "stdout",
          "text": [
            "Matriz reordenada:\n",
            " [[0.88617047 0.72953104 0.25841717 1.        ]\n",
            " [0.07307434 0.41609104 0.81347171 1.        ]\n",
            " [0.53782684 0.68834974 0.68264449 1.        ]\n",
            " [0.57827093 0.97768604 0.50589128 1.        ]\n",
            " [0.4967988  0.34469846 0.59174938 1.        ]]\n"
          ]
        }
      ]
    },
    {
      "cell_type": "markdown",
      "source": [
        "PREGUNTA 6:"
      ],
      "metadata": {
        "id": "liC__QAZQVL4"
      }
    },
    {
      "cell_type": "markdown",
      "source": [
        " a) Crea una matriz simétrica positiva definida de tamaño 3x3."
      ],
      "metadata": {
        "id": "vqcTM_FlQrlh"
      }
    },
    {
      "cell_type": "code",
      "source": [
        "# Matriz aleatoria 3x3\n",
        "A = np.random.rand(3, 3)\n",
        "\n",
        "# Matriz simétrica\n",
        "A = (A + A.T) / 2\n",
        "\n",
        "# Matriz positiva con un valor a la diagonal\n",
        "A += 3 * np.eye(3)\n",
        "\n",
        "print(\"Matriz simétrica positiva definida:\\n\", A)"
      ],
      "metadata": {
        "colab": {
          "base_uri": "https://localhost:8080/"
        },
        "id": "7BjquyNqQZi3",
        "outputId": "ff0259a4-b88a-4813-fc54-ec08d50c3832"
      },
      "execution_count": 45,
      "outputs": [
        {
          "output_type": "stream",
          "name": "stdout",
          "text": [
            "Matriz simétrica positiva definida:\n",
            " [[3.1806572  0.72196224 0.71319893]\n",
            " [0.72196224 3.75785119 0.4432643 ]\n",
            " [0.71319893 0.4432643  3.32407074]]\n"
          ]
        }
      ]
    },
    {
      "cell_type": "markdown",
      "source": [
        " b) Calcula sus valores y vectores propios (eigenvalores y eigenvectores)."
      ],
      "metadata": {
        "id": "GiALNVZAQauC"
      }
    },
    {
      "cell_type": "code",
      "source": [
        "eigenvalores, eigenvectores = np.linalg.eig(A)\n",
        "\n",
        "print(\"Eigenvalores:\\n\", eigenvalores)\n",
        "print(\"Eigenvectores:\\n\", eigenvectores)"
      ],
      "metadata": {
        "colab": {
          "base_uri": "https://localhost:8080/"
        },
        "id": "cudXZt0mQaS2",
        "outputId": "c2e0c2e5-46a6-4485-c5db-2f409c761bbe"
      },
      "execution_count": 19,
      "outputs": [
        {
          "output_type": "stream",
          "name": "stdout",
          "text": [
            "Eigenvalores:\n",
            " [4.0578394  2.97523302 3.3768495 ]\n",
            "Eigenvectores:\n",
            " [[-0.89168528 -0.36985408 -0.26096994]\n",
            " [-0.38193893  0.92417534 -0.0047542 ]\n",
            " [-0.24294035 -0.09543533  0.96533522]]\n"
          ]
        }
      ]
    },
    {
      "cell_type": "markdown",
      "source": [
        "c) Verifica que la multiplicación de la matriz original por un vector propio es igual al producto del eigenvalor\n",
        " correspondiente por el vector propio."
      ],
      "metadata": {
        "id": "PoJPFWyCQg4p"
      }
    },
    {
      "cell_type": "code",
      "source": [
        "for i in range(len(eigenvalores)):\n",
        "    producto_matriz_vector = np.dot(A, eigenvectores[:, i])\n",
        "    producto_eigenvalor_vector = eigenvalores[i] * eigenvectores[:, i]\n",
        "    print(f\"Para el eigenvalor {eigenvalores[i]}:\")\n",
        "    print(\"Producto matriz-vector:\", producto_matriz_vector)\n",
        "    print(\"Producto eigenvalor-vector:\", producto_eigenvalor_vector)\n",
        "    print(\"Diferencia:\", producto_matriz_vector - producto_eigenvalor_vector)\n",
        "    print(\"-\" * 20)"
      ],
      "metadata": {
        "colab": {
          "base_uri": "https://localhost:8080/"
        },
        "id": "RHIWz0NHQjC_",
        "outputId": "cb31d23a-1c28-465d-c0e8-322d8132768d"
      },
      "execution_count": 20,
      "outputs": [
        {
          "output_type": "stream",
          "name": "stdout",
          "text": [
            "Para el eigenvalor 4.057839398407642:\n",
            "Producto matriz-vector: [-3.61831568 -1.54984682 -0.98581291]\n",
            "Producto eigenvalor-vector: [-3.61831568 -1.54984682 -0.98581291]\n",
            "Diferencia: [8.88178420e-16 1.77635684e-15 3.33066907e-16]\n",
            "--------------------\n",
            "Para el eigenvalor 2.9752330218474685:\n",
            "Producto matriz-vector: [-1.10040208  2.74963698 -0.28394234]\n",
            "Producto eigenvalor-vector: [-1.10040208  2.74963698 -0.28394234]\n",
            "Diferencia: [ 0.00000000e+00 -2.66453526e-15 -1.66533454e-16]\n",
            "--------------------\n",
            "Para el eigenvalor 3.376849497273532:\n",
            "Producto matriz-vector: [-0.88125622 -0.01605422  3.25979175]\n",
            "Producto eigenvalor-vector: [-0.88125622 -0.01605422  3.25979175]\n",
            "Diferencia: [-4.44089210e-16 -5.44703171e-16  0.00000000e+00]\n",
            "--------------------\n"
          ]
        }
      ]
    },
    {
      "cell_type": "markdown",
      "source": [
        "PREGUNTA 7:"
      ],
      "metadata": {
        "id": "Oe8-UFHEQmsF"
      }
    },
    {
      "cell_type": "markdown",
      "source": [
        "a) Construye un sistema de ecuaciones lineales con tres ecuaciones y tres incógnitas donde la matriz de\n",
        " coeficientes es singular (no invertible)."
      ],
      "metadata": {
        "id": "yYXXUHU6Q2Ql"
      }
    },
    {
      "cell_type": "code",
      "source": [
        "# Sistema de ecuaciones con matriz de coeficientes singular:\n",
        "# Ecuación 1: x + y + z = 6\n",
        "# Ecuación 2: 2x + 2y + 2z = 12  (Múltiplo de la ecuación 1)\n",
        "# Ecuación 3: x + y - z = 2\n",
        "\n",
        "# Matriz de coeficientes singular (filas linealmente dependientes)\n",
        "A = np.array([[1, 1, 1],\n",
        "              [2, 2, 2],\n",
        "              [1, 1, -1]])\n",
        "\n",
        "# Vector de términos independientes\n",
        "b = np.array([6, 12, 2])\n",
        "\n",
        "print(\"Matriz de coeficientes A:\\n\", A)\n",
        "print(\"Vector de términos independientes b:\\n\", b)\n",
        "\n",
        "# Generará un error ya que la matriz es singular.\n",
        "# Para demostrar la singularidad se puede calcular el determinante\n",
        "determinante = np.linalg.det(A)\n",
        "\n",
        "print(\"El determinante de A es:\",determinante)\n",
        "\n",
        "# Para mostrar que el sistema no tiene solución única:\n",
        "# np.linalg.solve(A,b)"
      ],
      "metadata": {
        "colab": {
          "base_uri": "https://localhost:8080/"
        },
        "id": "Udz33XmsQy-c",
        "outputId": "2bbaa2ff-abb1-45a4-d562-5b6db29bb2b1"
      },
      "execution_count": 46,
      "outputs": [
        {
          "output_type": "stream",
          "name": "stdout",
          "text": [
            "Matriz de coeficientes A:\n",
            " [[ 1  1  1]\n",
            " [ 2  2  2]\n",
            " [ 1  1 -1]]\n",
            "Vector de términos independientes b:\n",
            " [ 6 12  2]\n",
            "El determinante de A es: 0.0\n"
          ]
        }
      ]
    },
    {
      "cell_type": "markdown",
      "source": [
        "b) Intenta resolver el sistema utilizando np.linalg.solve() y explica el resultado obtenido."
      ],
      "metadata": {
        "id": "vDtkEndKQ5VX"
      }
    },
    {
      "cell_type": "code",
      "source": [
        "try:\n",
        "    x = np.linalg.solve(A, b)\n",
        "    print(\"Solución del sistema:\", x)\n",
        "except np.linalg.LinAlgError as e:\n",
        "    print(\"Error al resolver el sistema:\", e)\n",
        "    print(\"La matriz de coeficientes es singular (no invertible), por lo que el sistema no tiene una solución única o no tiene solución.\")"
      ],
      "metadata": {
        "colab": {
          "base_uri": "https://localhost:8080/"
        },
        "id": "3MHrLu7ZQ9OV",
        "outputId": "95491d46-7e7f-4f8d-b57b-eab8a80856dd"
      },
      "execution_count": 47,
      "outputs": [
        {
          "output_type": "stream",
          "name": "stdout",
          "text": [
            "Error al resolver el sistema: Singular matrix\n",
            "La matriz de coeficientes es singular (no invertible), por lo que el sistema no tiene una solución única o no tiene solución.\n"
          ]
        }
      ]
    },
    {
      "cell_type": "markdown",
      "source": [
        "PREGUNTA 8"
      ],
      "metadata": {
        "id": "_2gOrC1QQ9_1"
      }
    },
    {
      "cell_type": "markdown",
      "source": [
        "a) Crea un array de forma (4, 4, 4) con números enteros aleatorios entre 0 y 100."
      ],
      "metadata": {
        "id": "3KZTV7u3RKXU"
      }
    },
    {
      "cell_type": "code",
      "source": [
        "array_3d = np.random.randint(0, 101, size=(4, 4, 4))\n",
        "array_3d"
      ],
      "metadata": {
        "colab": {
          "base_uri": "https://localhost:8080/"
        },
        "id": "I3EpZ0rQRK4m",
        "outputId": "ef905807-4821-42b0-e480-09f66a29e145"
      },
      "execution_count": 48,
      "outputs": [
        {
          "output_type": "execute_result",
          "data": {
            "text/plain": [
              "array([[[93, 84, 64, 79],\n",
              "        [93, 31,  4, 46],\n",
              "        [95, 91, 20, 26],\n",
              "        [18, 35, 30, 39]],\n",
              "\n",
              "       [[38, 42, 35, 12],\n",
              "        [42, 90, 14, 44],\n",
              "        [ 5, 28, 88, 32],\n",
              "        [75,  6, 65, 77]],\n",
              "\n",
              "       [[15, 46, 33, 61],\n",
              "        [35, 65, 40, 67],\n",
              "        [74, 90, 43, 61],\n",
              "        [84, 68, 41, 24]],\n",
              "\n",
              "       [[13, 39, 48, 29],\n",
              "        [90, 63, 60, 67],\n",
              "        [80, 85, 35,  5],\n",
              "        [31, 67, 20, 15]]])"
            ]
          },
          "metadata": {},
          "execution_count": 48
        }
      ]
    },
    {
      "cell_type": "markdown",
      "source": [
        "b) Calcula la suma a lo largo del eje 0, obteniendo un array de forma (4, 4)."
      ],
      "metadata": {
        "id": "llINXh3mRMOk"
      }
    },
    {
      "cell_type": "code",
      "source": [
        "suma_eje_0 = np.sum(array_3d, axis=0)\n",
        "suma_eje_0"
      ],
      "metadata": {
        "colab": {
          "base_uri": "https://localhost:8080/"
        },
        "id": "068FQarsRPIY",
        "outputId": "9c614770-06ad-4154-e73d-5d7cc8e67812"
      },
      "execution_count": 49,
      "outputs": [
        {
          "output_type": "execute_result",
          "data": {
            "text/plain": [
              "array([[159, 211, 180, 181],\n",
              "       [260, 249, 118, 224],\n",
              "       [254, 294, 186, 124],\n",
              "       [208, 176, 156, 155]])"
            ]
          },
          "metadata": {},
          "execution_count": 49
        }
      ]
    },
    {
      "cell_type": "markdown",
      "source": [
        " c) Calcula el promedio a lo largo del eje 1, obteniendo un array de forma (4, 4)."
      ],
      "metadata": {
        "id": "JjmKFlQlRQC3"
      }
    },
    {
      "cell_type": "code",
      "source": [
        "promedio_eje_1 = np.mean(array_3d, axis=1)\n",
        "promedio_eje_1"
      ],
      "metadata": {
        "colab": {
          "base_uri": "https://localhost:8080/"
        },
        "id": "JO1ZNY87RSH7",
        "outputId": "4c89baa5-26a4-43fc-8ce9-3c56c91c8158"
      },
      "execution_count": 50,
      "outputs": [
        {
          "output_type": "execute_result",
          "data": {
            "text/plain": [
              "array([[74.75, 60.25, 29.5 , 47.5 ],\n",
              "       [40.  , 41.5 , 50.5 , 41.25],\n",
              "       [52.  , 67.25, 39.25, 53.25],\n",
              "       [53.5 , 63.5 , 40.75, 29.  ]])"
            ]
          },
          "metadata": {},
          "execution_count": 50
        }
      ]
    },
    {
      "cell_type": "markdown",
      "source": [
        "d) Reestructura el array original en una nueva forma de (8, 8) sin perder datos."
      ],
      "metadata": {
        "id": "aCzNlKp2RTWG"
      }
    },
    {
      "cell_type": "code",
      "source": [
        "array_8x8 = array_3d.reshape(8, 8)\n",
        "array_8x8"
      ],
      "metadata": {
        "colab": {
          "base_uri": "https://localhost:8080/"
        },
        "id": "YZOvCJR1RVgK",
        "outputId": "290806a9-0a9b-4c09-cbfc-663d36ccf9e8"
      },
      "execution_count": 51,
      "outputs": [
        {
          "output_type": "execute_result",
          "data": {
            "text/plain": [
              "array([[93, 84, 64, 79, 93, 31,  4, 46],\n",
              "       [95, 91, 20, 26, 18, 35, 30, 39],\n",
              "       [38, 42, 35, 12, 42, 90, 14, 44],\n",
              "       [ 5, 28, 88, 32, 75,  6, 65, 77],\n",
              "       [15, 46, 33, 61, 35, 65, 40, 67],\n",
              "       [74, 90, 43, 61, 84, 68, 41, 24],\n",
              "       [13, 39, 48, 29, 90, 63, 60, 67],\n",
              "       [80, 85, 35,  5, 31, 67, 20, 15]])"
            ]
          },
          "metadata": {},
          "execution_count": 51
        }
      ]
    }
  ]
}